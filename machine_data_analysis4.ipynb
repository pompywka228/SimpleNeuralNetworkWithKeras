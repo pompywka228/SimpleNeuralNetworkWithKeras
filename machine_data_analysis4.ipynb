{
 "cells": [
  {
   "cell_type": "code",
   "execution_count": 3,
   "metadata": {
    "scrolled": false
   },
   "outputs": [
    {
     "name": "stderr",
     "output_type": "stream",
     "text": [
      "Using TensorFlow backend.\n"
     ]
    }
   ],
   "source": [
    "# Загрузка зависимостей\n",
    "import numpy\n",
    "import pandas\n",
    "import matplotlib.pyplot as plt\n",
    "import keras\n",
    "from keras.models import Sequential\n",
    "from keras.layers import Dense\n",
    "from sklearn.preprocessing import StandardScaler\n",
    "from sklearn.preprocessing import MinMaxScaler\n",
    "from sklearn.model_selection import train_test_split\n",
    "from sklearn.metrics import mean_squared_error\n",
    "from scipy import stats\n",
    "from statsmodels.graphics.gofplots import qqplot"
   ]
  },
  {
   "cell_type": "code",
   "execution_count": 4,
   "metadata": {
    "scrolled": true
   },
   "outputs": [
    {
     "data": {
      "text/html": [
       "<div>\n",
       "<style scoped>\n",
       "    .dataframe tbody tr th:only-of-type {\n",
       "        vertical-align: middle;\n",
       "    }\n",
       "\n",
       "    .dataframe tbody tr th {\n",
       "        vertical-align: top;\n",
       "    }\n",
       "\n",
       "    .dataframe thead th {\n",
       "        text-align: right;\n",
       "    }\n",
       "</style>\n",
       "<table border=\"1\" class=\"dataframe\">\n",
       "  <thead>\n",
       "    <tr style=\"text-align: right;\">\n",
       "      <th></th>\n",
       "      <th>Unnamed: 0</th>\n",
       "      <th>MMIN</th>\n",
       "      <th>CHMAX</th>\n",
       "      <th>2</th>\n",
       "      <th>4</th>\n",
       "      <th>5</th>\n",
       "      <th>6</th>\n",
       "      <th>8</th>\n",
       "    </tr>\n",
       "  </thead>\n",
       "  <tbody>\n",
       "    <tr>\n",
       "      <th>0</th>\n",
       "      <td>0</td>\n",
       "      <td>0.251074</td>\n",
       "      <td>1.000000</td>\n",
       "      <td>0.489650</td>\n",
       "      <td>0.730638</td>\n",
       "      <td>1.000000</td>\n",
       "      <td>0.894427</td>\n",
       "      <td>0.759257</td>\n",
       "    </tr>\n",
       "    <tr>\n",
       "      <th>1</th>\n",
       "      <td>1</td>\n",
       "      <td>0.874463</td>\n",
       "      <td>0.676123</td>\n",
       "      <td>0.131078</td>\n",
       "      <td>1.000000</td>\n",
       "      <td>0.421637</td>\n",
       "      <td>0.632456</td>\n",
       "      <td>0.825801</td>\n",
       "    </tr>\n",
       "    <tr>\n",
       "      <th>2</th>\n",
       "      <td>2</td>\n",
       "      <td>0.874463</td>\n",
       "      <td>0.676123</td>\n",
       "      <td>0.131078</td>\n",
       "      <td>1.000000</td>\n",
       "      <td>0.421637</td>\n",
       "      <td>0.632456</td>\n",
       "      <td>0.782136</td>\n",
       "    </tr>\n",
       "    <tr>\n",
       "      <th>3</th>\n",
       "      <td>3</td>\n",
       "      <td>0.874463</td>\n",
       "      <td>0.676123</td>\n",
       "      <td>0.131078</td>\n",
       "      <td>1.000000</td>\n",
       "      <td>0.421637</td>\n",
       "      <td>0.632456</td>\n",
       "      <td>0.728689</td>\n",
       "    </tr>\n",
       "    <tr>\n",
       "      <th>4</th>\n",
       "      <td>4</td>\n",
       "      <td>0.874463</td>\n",
       "      <td>0.478091</td>\n",
       "      <td>0.131078</td>\n",
       "      <td>0.888465</td>\n",
       "      <td>0.421637</td>\n",
       "      <td>0.632456</td>\n",
       "      <td>0.671211</td>\n",
       "    </tr>\n",
       "    <tr>\n",
       "      <th>5</th>\n",
       "      <td>5</td>\n",
       "      <td>0.874463</td>\n",
       "      <td>0.676123</td>\n",
       "      <td>0.104278</td>\n",
       "      <td>1.000000</td>\n",
       "      <td>0.596285</td>\n",
       "      <td>0.632456</td>\n",
       "      <td>0.862138</td>\n",
       "    </tr>\n",
       "    <tr>\n",
       "      <th>6</th>\n",
       "      <td>6</td>\n",
       "      <td>1.000000</td>\n",
       "      <td>0.676123</td>\n",
       "      <td>0.074188</td>\n",
       "      <td>1.000000</td>\n",
       "      <td>0.596285</td>\n",
       "      <td>0.894427</td>\n",
       "      <td>0.893257</td>\n",
       "    </tr>\n",
       "    <tr>\n",
       "      <th>7</th>\n",
       "      <td>7</td>\n",
       "      <td>1.000000</td>\n",
       "      <td>0.676123</td>\n",
       "      <td>0.074188</td>\n",
       "      <td>1.000000</td>\n",
       "      <td>0.596285</td>\n",
       "      <td>0.894427</td>\n",
       "      <td>0.955579</td>\n",
       "    </tr>\n",
       "    <tr>\n",
       "      <th>8</th>\n",
       "      <td>8</td>\n",
       "      <td>1.000000</td>\n",
       "      <td>0.676123</td>\n",
       "      <td>0.074188</td>\n",
       "      <td>1.000000</td>\n",
       "      <td>0.596285</td>\n",
       "      <td>0.894427</td>\n",
       "      <td>1.000000</td>\n",
       "    </tr>\n",
       "    <tr>\n",
       "      <th>9</th>\n",
       "      <td>9</td>\n",
       "      <td>1.000000</td>\n",
       "      <td>0.956183</td>\n",
       "      <td>0.074188</td>\n",
       "      <td>1.000000</td>\n",
       "      <td>0.843274</td>\n",
       "      <td>1.000000</td>\n",
       "      <td>1.000000</td>\n",
       "    </tr>\n",
       "  </tbody>\n",
       "</table>\n",
       "</div>"
      ],
      "text/plain": [
       "   Unnamed: 0      MMIN     CHMAX         2         4         5         6  \\\n",
       "0           0  0.251074  1.000000  0.489650  0.730638  1.000000  0.894427   \n",
       "1           1  0.874463  0.676123  0.131078  1.000000  0.421637  0.632456   \n",
       "2           2  0.874463  0.676123  0.131078  1.000000  0.421637  0.632456   \n",
       "3           3  0.874463  0.676123  0.131078  1.000000  0.421637  0.632456   \n",
       "4           4  0.874463  0.478091  0.131078  0.888465  0.421637  0.632456   \n",
       "5           5  0.874463  0.676123  0.104278  1.000000  0.596285  0.632456   \n",
       "6           6  1.000000  0.676123  0.074188  1.000000  0.596285  0.894427   \n",
       "7           7  1.000000  0.676123  0.074188  1.000000  0.596285  0.894427   \n",
       "8           8  1.000000  0.676123  0.074188  1.000000  0.596285  0.894427   \n",
       "9           9  1.000000  0.956183  0.074188  1.000000  0.843274  1.000000   \n",
       "\n",
       "          8  \n",
       "0  0.759257  \n",
       "1  0.825801  \n",
       "2  0.782136  \n",
       "3  0.728689  \n",
       "4  0.671211  \n",
       "5  0.862138  \n",
       "6  0.893257  \n",
       "7  0.955579  \n",
       "8  1.000000  \n",
       "9  1.000000  "
      ]
     },
     "execution_count": 4,
     "metadata": {},
     "output_type": "execute_result"
    }
   ],
   "source": [
    "# Загрузка подготовленного набора данных\n",
    "dataset = pandas.read_csv('prepared_data.csv') # Убедиться в правильности пути к файлу!\n",
    "dataset.head(10) # Вывод первых 10 строк"
   ]
  },
  {
   "cell_type": "code",
   "execution_count": 5,
   "metadata": {},
   "outputs": [
    {
     "data": {
      "text/html": [
       "<div>\n",
       "<style scoped>\n",
       "    .dataframe tbody tr th:only-of-type {\n",
       "        vertical-align: middle;\n",
       "    }\n",
       "\n",
       "    .dataframe tbody tr th {\n",
       "        vertical-align: top;\n",
       "    }\n",
       "\n",
       "    .dataframe thead th {\n",
       "        text-align: right;\n",
       "    }\n",
       "</style>\n",
       "<table border=\"1\" class=\"dataframe\">\n",
       "  <thead>\n",
       "    <tr style=\"text-align: right;\">\n",
       "      <th></th>\n",
       "      <th>MMIN</th>\n",
       "      <th>CHMAX</th>\n",
       "      <th>2</th>\n",
       "      <th>4</th>\n",
       "      <th>5</th>\n",
       "      <th>6</th>\n",
       "    </tr>\n",
       "  </thead>\n",
       "  <tbody>\n",
       "    <tr>\n",
       "      <th>0</th>\n",
       "      <td>0.251074</td>\n",
       "      <td>1.000000</td>\n",
       "      <td>0.489650</td>\n",
       "      <td>0.730638</td>\n",
       "      <td>1.000000</td>\n",
       "      <td>0.894427</td>\n",
       "    </tr>\n",
       "    <tr>\n",
       "      <th>1</th>\n",
       "      <td>0.874463</td>\n",
       "      <td>0.676123</td>\n",
       "      <td>0.131078</td>\n",
       "      <td>1.000000</td>\n",
       "      <td>0.421637</td>\n",
       "      <td>0.632456</td>\n",
       "    </tr>\n",
       "    <tr>\n",
       "      <th>2</th>\n",
       "      <td>0.874463</td>\n",
       "      <td>0.676123</td>\n",
       "      <td>0.131078</td>\n",
       "      <td>1.000000</td>\n",
       "      <td>0.421637</td>\n",
       "      <td>0.632456</td>\n",
       "    </tr>\n",
       "    <tr>\n",
       "      <th>3</th>\n",
       "      <td>0.874463</td>\n",
       "      <td>0.676123</td>\n",
       "      <td>0.131078</td>\n",
       "      <td>1.000000</td>\n",
       "      <td>0.421637</td>\n",
       "      <td>0.632456</td>\n",
       "    </tr>\n",
       "    <tr>\n",
       "      <th>4</th>\n",
       "      <td>0.874463</td>\n",
       "      <td>0.478091</td>\n",
       "      <td>0.131078</td>\n",
       "      <td>0.888465</td>\n",
       "      <td>0.421637</td>\n",
       "      <td>0.632456</td>\n",
       "    </tr>\n",
       "    <tr>\n",
       "      <th>5</th>\n",
       "      <td>0.874463</td>\n",
       "      <td>0.676123</td>\n",
       "      <td>0.104278</td>\n",
       "      <td>1.000000</td>\n",
       "      <td>0.596285</td>\n",
       "      <td>0.632456</td>\n",
       "    </tr>\n",
       "    <tr>\n",
       "      <th>6</th>\n",
       "      <td>1.000000</td>\n",
       "      <td>0.676123</td>\n",
       "      <td>0.074188</td>\n",
       "      <td>1.000000</td>\n",
       "      <td>0.596285</td>\n",
       "      <td>0.894427</td>\n",
       "    </tr>\n",
       "    <tr>\n",
       "      <th>7</th>\n",
       "      <td>1.000000</td>\n",
       "      <td>0.676123</td>\n",
       "      <td>0.074188</td>\n",
       "      <td>1.000000</td>\n",
       "      <td>0.596285</td>\n",
       "      <td>0.894427</td>\n",
       "    </tr>\n",
       "    <tr>\n",
       "      <th>8</th>\n",
       "      <td>1.000000</td>\n",
       "      <td>0.676123</td>\n",
       "      <td>0.074188</td>\n",
       "      <td>1.000000</td>\n",
       "      <td>0.596285</td>\n",
       "      <td>0.894427</td>\n",
       "    </tr>\n",
       "    <tr>\n",
       "      <th>9</th>\n",
       "      <td>1.000000</td>\n",
       "      <td>0.956183</td>\n",
       "      <td>0.074188</td>\n",
       "      <td>1.000000</td>\n",
       "      <td>0.843274</td>\n",
       "      <td>1.000000</td>\n",
       "    </tr>\n",
       "  </tbody>\n",
       "</table>\n",
       "</div>"
      ],
      "text/plain": [
       "       MMIN     CHMAX         2         4         5         6\n",
       "0  0.251074  1.000000  0.489650  0.730638  1.000000  0.894427\n",
       "1  0.874463  0.676123  0.131078  1.000000  0.421637  0.632456\n",
       "2  0.874463  0.676123  0.131078  1.000000  0.421637  0.632456\n",
       "3  0.874463  0.676123  0.131078  1.000000  0.421637  0.632456\n",
       "4  0.874463  0.478091  0.131078  0.888465  0.421637  0.632456\n",
       "5  0.874463  0.676123  0.104278  1.000000  0.596285  0.632456\n",
       "6  1.000000  0.676123  0.074188  1.000000  0.596285  0.894427\n",
       "7  1.000000  0.676123  0.074188  1.000000  0.596285  0.894427\n",
       "8  1.000000  0.676123  0.074188  1.000000  0.596285  0.894427\n",
       "9  1.000000  0.956183  0.074188  1.000000  0.843274  1.000000"
      ]
     },
     "execution_count": 5,
     "metadata": {},
     "output_type": "execute_result"
    }
   ],
   "source": [
    "Xx = dataset.iloc[:, [*range(1,7)]]\n",
    "Xx.head(10)"
   ]
  },
  {
   "cell_type": "code",
   "execution_count": 6,
   "metadata": {},
   "outputs": [],
   "source": [
    "# Выделение входных и выходных параметров:\n",
    "# Выходной параметр - значение столбца обработанного набора данных, соответсвующее столбцу №8 из первоначального набора данных (machine.data.csv).\n",
    "# Входные параметры - все остальные столбцы обработанного набора данных.\n",
    "# Используем .values, чтобы индексы не попали в новые переменные и в дальнейшем не мешали нам, например, при построении графиков.\n",
    "X = dataset.iloc[:, [*range(1,7)]].values\n",
    "Y = dataset['8'].values\n",
    "\n",
    "# Обратите внимание на структуру вашего обработанного файлы и измените индексы, если нужно."
   ]
  },
  {
   "cell_type": "code",
   "execution_count": 7,
   "metadata": {},
   "outputs": [],
   "source": [
    "# Разделение данных на обучающую и тестовую выборки:\n",
    "# Используем метод train_test_split библиотеки sklearn.\n",
    "# Он разделяет заданные массивы входных и выходных параметров на две части каждый.\n",
    "# Значение test_size определяет долю тестовой выборки в исходных данных.\n",
    "X_train, X_test, Y_train, Y_test = train_test_split(X, Y, test_size = 0.2)"
   ]
  },
  {
   "cell_type": "code",
   "execution_count": 8,
   "metadata": {},
   "outputs": [],
   "source": [
    "# Задаем параметры структуры нейронной сети.\n",
    "\n",
    "# Количество нейронов во входном слое должно быть равно количеству входных параметров.\n",
    "input_layer_size = 6\n",
    "\n",
    "# Количество нейронов в каждом скрытом слое и количество таких слоёв могут быть выбраны произвольно.\n",
    "# Увеличение числа нейронов относительно предыдущего слоя позволяет лучше обрабатывать отдельные примеры.\n",
    "# Уменьшение числа нейронов относительно предыдущего слоя позволяет обощать информацию и выводить новые правила.\n",
    "# Увеличение числа слоёв помогает сети работать как более сложная функция.\n",
    "first_hidden_layer_size = 50\n",
    "second_hidden_layer_size = 50\n",
    "\n",
    "# Количество нейронов в выходном слое должно быть равно количеству выходных параметров.\n",
    "output_layer_size = 1\n",
    "# Параметры обучения нейронной сети: количество эпох и размер батча.\n",
    "epochs_number = 240\n",
    "batch_size = 48"
   ]
  },
  {
   "cell_type": "code",
   "execution_count": 9,
   "metadata": {
    "scrolled": false
   },
   "outputs": [],
   "source": [
    "# Создание нейронной сети прямого распространения, пока она пустая, т.е. не содержит слоёв и нейронов.\n",
    "model = Sequential()\n",
    "\n",
    "# Входной слой и первый скрытый слой, функция активации - ReLU\n",
    "model.add(Dense(first_hidden_layer_size, input_dim=input_layer_size, activation='relu'))\n",
    "\n",
    "# Второй скрытый слой, функция активации - ReLU\n",
    "model.add(Dense(second_hidden_layer_size, activation='relu'))\n",
    "\n",
    "# Выходной слой, функция активации - линейная, т.к. решается задача регрессии.\n",
    "model.add(Dense(output_layer_size, activation='linear'))"
   ]
  },
  {
   "cell_type": "code",
   "execution_count": 10,
   "metadata": {
    "scrolled": true
   },
   "outputs": [
    {
     "name": "stdout",
     "output_type": "stream",
     "text": [
      "Model: \"sequential_1\"\n",
      "_________________________________________________________________\n",
      "Layer (type)                 Output Shape              Param #   \n",
      "=================================================================\n",
      "dense_1 (Dense)              (None, 50)                350       \n",
      "_________________________________________________________________\n",
      "dense_2 (Dense)              (None, 50)                2550      \n",
      "_________________________________________________________________\n",
      "dense_3 (Dense)              (None, 1)                 51        \n",
      "=================================================================\n",
      "Total params: 2,951\n",
      "Trainable params: 2,951\n",
      "Non-trainable params: 0\n",
      "_________________________________________________________________\n"
     ]
    }
   ],
   "source": [
    "# Обзор нейронной сети, теперь в ней есть слои и нейроны.\n",
    "# Если внимательно посмотреть на количество параметров, т.е. связей между нейронами, то можно увидеть, что автоматически добавлены нейроны смещения.\n",
    "model.summary()"
   ]
  },
  {
   "cell_type": "code",
   "execution_count": 11,
   "metadata": {
    "scrolled": true
   },
   "outputs": [],
   "source": [
    "# Настройка нейронной сети.\n",
    "# Функция потерь (loss) - среднеквадратическая ошибка.\n",
    "# Оптимизатор (optimizer) - adam (в настоящий момент - это стандартный оптимизатор).\n",
    "# Указываем метрики средняя абсолютная ошибка (mean_absolute_error) и среднеквадратическая ошиба (mean_squared_error) для дальнейшего анализа.\n",
    "model.compile(loss='mean_squared_error', optimizer='adam', metrics=['mean_absolute_error', 'mean_squared_error'])"
   ]
  },
  {
   "cell_type": "code",
   "execution_count": 12,
   "metadata": {
    "scrolled": false
   },
   "outputs": [
    {
     "name": "stdout",
     "output_type": "stream",
     "text": [
      "Train on 167 samples, validate on 42 samples\n",
      "Epoch 1/240\n",
      "167/167 [==============================] - 0s 2ms/step - loss: 0.3082 - mean_absolute_error: 0.5070 - mean_squared_error: 0.3082 - val_loss: 0.2304 - val_mean_absolute_error: 0.4216 - val_mean_squared_error: 0.2304\n",
      "Epoch 2/240\n",
      "167/167 [==============================] - 0s 67us/step - loss: 0.2166 - mean_absolute_error: 0.4170 - mean_squared_error: 0.2166 - val_loss: 0.1568 - val_mean_absolute_error: 0.3407 - val_mean_squared_error: 0.1568\n",
      "Epoch 3/240\n",
      "167/167 [==============================] - 0s 64us/step - loss: 0.1431 - mean_absolute_error: 0.3303 - mean_squared_error: 0.1431 - val_loss: 0.0995 - val_mean_absolute_error: 0.2634 - val_mean_squared_error: 0.0995\n",
      "Epoch 4/240\n",
      "167/167 [==============================] - 0s 77us/step - loss: 0.0886 - mean_absolute_error: 0.2496 - mean_squared_error: 0.0886 - val_loss: 0.0577 - val_mean_absolute_error: 0.1953 - val_mean_squared_error: 0.0577\n",
      "Epoch 5/240\n",
      "167/167 [==============================] - 0s 93us/step - loss: 0.0468 - mean_absolute_error: 0.1742 - mean_squared_error: 0.0468 - val_loss: 0.0322 - val_mean_absolute_error: 0.1448 - val_mean_squared_error: 0.0322\n",
      "Epoch 6/240\n",
      "167/167 [==============================] - 0s 61us/step - loss: 0.0257 - mean_absolute_error: 0.1267 - mean_squared_error: 0.0257 - val_loss: 0.0224 - val_mean_absolute_error: 0.1208 - val_mean_squared_error: 0.0224\n",
      "Epoch 7/240\n",
      "167/167 [==============================] - 0s 53us/step - loss: 0.0178 - mean_absolute_error: 0.1054 - mean_squared_error: 0.0178 - val_loss: 0.0223 - val_mean_absolute_error: 0.1221 - val_mean_squared_error: 0.0223\n",
      "Epoch 8/240\n",
      "167/167 [==============================] - 0s 277us/step - loss: 0.0178 - mean_absolute_error: 0.1088 - mean_squared_error: 0.0178 - val_loss: 0.0225 - val_mean_absolute_error: 0.1227 - val_mean_squared_error: 0.0225\n",
      "Epoch 9/240\n",
      "167/167 [==============================] - 0s 77us/step - loss: 0.0178 - mean_absolute_error: 0.1086 - mean_squared_error: 0.0178 - val_loss: 0.0198 - val_mean_absolute_error: 0.1151 - val_mean_squared_error: 0.0198\n",
      "Epoch 10/240\n",
      "167/167 [==============================] - 0s 66us/step - loss: 0.0156 - mean_absolute_error: 0.1004 - mean_squared_error: 0.0156 - val_loss: 0.0157 - val_mean_absolute_error: 0.1031 - val_mean_squared_error: 0.0157\n",
      "Epoch 11/240\n",
      "167/167 [==============================] - 0s 70us/step - loss: 0.0125 - mean_absolute_error: 0.0888 - mean_squared_error: 0.0125 - val_loss: 0.0124 - val_mean_absolute_error: 0.0915 - val_mean_squared_error: 0.0124\n",
      "Epoch 12/240\n",
      "167/167 [==============================] - 0s 54us/step - loss: 0.0105 - mean_absolute_error: 0.0806 - mean_squared_error: 0.0105 - val_loss: 0.0107 - val_mean_absolute_error: 0.0847 - val_mean_squared_error: 0.0107\n",
      "Epoch 13/240\n",
      "167/167 [==============================] - 0s 87us/step - loss: 0.0099 - mean_absolute_error: 0.0789 - mean_squared_error: 0.0099 - val_loss: 0.0100 - val_mean_absolute_error: 0.0810 - val_mean_squared_error: 0.0100\n",
      "Epoch 14/240\n",
      "167/167 [==============================] - 0s 95us/step - loss: 0.0096 - mean_absolute_error: 0.0783 - mean_squared_error: 0.0096 - val_loss: 0.0097 - val_mean_absolute_error: 0.0793 - val_mean_squared_error: 0.0097\n",
      "Epoch 15/240\n",
      "167/167 [==============================] - 0s 69us/step - loss: 0.0095 - mean_absolute_error: 0.0779 - mean_squared_error: 0.0095 - val_loss: 0.0093 - val_mean_absolute_error: 0.0779 - val_mean_squared_error: 0.0093\n",
      "Epoch 16/240\n",
      "167/167 [==============================] - 0s 80us/step - loss: 0.0093 - mean_absolute_error: 0.0769 - mean_squared_error: 0.0093 - val_loss: 0.0090 - val_mean_absolute_error: 0.0761 - val_mean_squared_error: 0.0090\n",
      "Epoch 17/240\n",
      "167/167 [==============================] - 0s 226us/step - loss: 0.0091 - mean_absolute_error: 0.0756 - mean_squared_error: 0.0091 - val_loss: 0.0088 - val_mean_absolute_error: 0.0747 - val_mean_squared_error: 0.0088\n",
      "Epoch 18/240\n",
      "167/167 [==============================] - 0s 68us/step - loss: 0.0089 - mean_absolute_error: 0.0742 - mean_squared_error: 0.0089 - val_loss: 0.0087 - val_mean_absolute_error: 0.0741 - val_mean_squared_error: 0.0087\n",
      "Epoch 19/240\n",
      "167/167 [==============================] - 0s 81us/step - loss: 0.0088 - mean_absolute_error: 0.0735 - mean_squared_error: 0.0088 - val_loss: 0.0086 - val_mean_absolute_error: 0.0735 - val_mean_squared_error: 0.0086\n",
      "Epoch 20/240\n",
      "167/167 [==============================] - 0s 60us/step - loss: 0.0087 - mean_absolute_error: 0.0731 - mean_squared_error: 0.0087 - val_loss: 0.0086 - val_mean_absolute_error: 0.0730 - val_mean_squared_error: 0.0086\n",
      "Epoch 21/240\n",
      "167/167 [==============================] - 0s 312us/step - loss: 0.0086 - mean_absolute_error: 0.0729 - mean_squared_error: 0.0086 - val_loss: 0.0085 - val_mean_absolute_error: 0.0728 - val_mean_squared_error: 0.0085\n",
      "Epoch 22/240\n",
      "167/167 [==============================] - 0s 62us/step - loss: 0.0085 - mean_absolute_error: 0.0727 - mean_squared_error: 0.0085 - val_loss: 0.0085 - val_mean_absolute_error: 0.0725 - val_mean_squared_error: 0.0085\n",
      "Epoch 23/240\n",
      "167/167 [==============================] - 0s 67us/step - loss: 0.0085 - mean_absolute_error: 0.0724 - mean_squared_error: 0.0085 - val_loss: 0.0085 - val_mean_absolute_error: 0.0721 - val_mean_squared_error: 0.0085\n",
      "Epoch 24/240\n",
      "167/167 [==============================] - 0s 71us/step - loss: 0.0084 - mean_absolute_error: 0.0723 - mean_squared_error: 0.0084 - val_loss: 0.0084 - val_mean_absolute_error: 0.0718 - val_mean_squared_error: 0.0084\n",
      "Epoch 25/240\n",
      "167/167 [==============================] - 0s 312us/step - loss: 0.0084 - mean_absolute_error: 0.0721 - mean_squared_error: 0.0084 - val_loss: 0.0085 - val_mean_absolute_error: 0.0715 - val_mean_squared_error: 0.0085\n",
      "Epoch 26/240\n",
      "167/167 [==============================] - 0s 80us/step - loss: 0.0083 - mean_absolute_error: 0.0719 - mean_squared_error: 0.0083 - val_loss: 0.0084 - val_mean_absolute_error: 0.0713 - val_mean_squared_error: 0.0084\n",
      "Epoch 27/240\n",
      "167/167 [==============================] - 0s 71us/step - loss: 0.0082 - mean_absolute_error: 0.0717 - mean_squared_error: 0.0082 - val_loss: 0.0084 - val_mean_absolute_error: 0.0714 - val_mean_squared_error: 0.0084\n",
      "Epoch 28/240\n",
      "167/167 [==============================] - 0s 74us/step - loss: 0.0082 - mean_absolute_error: 0.0716 - mean_squared_error: 0.0082 - val_loss: 0.0084 - val_mean_absolute_error: 0.0716 - val_mean_squared_error: 0.0084\n",
      "Epoch 29/240\n",
      "167/167 [==============================] - 0s 330us/step - loss: 0.0081 - mean_absolute_error: 0.0715 - mean_squared_error: 0.0081 - val_loss: 0.0084 - val_mean_absolute_error: 0.0719 - val_mean_squared_error: 0.0084\n",
      "Epoch 30/240\n",
      "167/167 [==============================] - 0s 73us/step - loss: 0.0081 - mean_absolute_error: 0.0714 - mean_squared_error: 0.0081 - val_loss: 0.0083 - val_mean_absolute_error: 0.0718 - val_mean_squared_error: 0.0083\n",
      "Epoch 31/240\n",
      "167/167 [==============================] - 0s 63us/step - loss: 0.0080 - mean_absolute_error: 0.0712 - mean_squared_error: 0.0080 - val_loss: 0.0082 - val_mean_absolute_error: 0.0712 - val_mean_squared_error: 0.0082\n",
      "Epoch 32/240\n",
      "167/167 [==============================] - 0s 53us/step - loss: 0.0080 - mean_absolute_error: 0.0706 - mean_squared_error: 0.0080 - val_loss: 0.0082 - val_mean_absolute_error: 0.0703 - val_mean_squared_error: 0.0082\n",
      "Epoch 33/240\n",
      "167/167 [==============================] - 0s 58us/step - loss: 0.0079 - mean_absolute_error: 0.0704 - mean_squared_error: 0.0079 - val_loss: 0.0082 - val_mean_absolute_error: 0.0699 - val_mean_squared_error: 0.0082\n",
      "Epoch 34/240\n",
      "167/167 [==============================] - 0s 290us/step - loss: 0.0079 - mean_absolute_error: 0.0702 - mean_squared_error: 0.0079 - val_loss: 0.0081 - val_mean_absolute_error: 0.0699 - val_mean_squared_error: 0.0081\n",
      "Epoch 35/240\n",
      "167/167 [==============================] - 0s 65us/step - loss: 0.0078 - mean_absolute_error: 0.0699 - mean_squared_error: 0.0078 - val_loss: 0.0081 - val_mean_absolute_error: 0.0697 - val_mean_squared_error: 0.0081\n",
      "Epoch 36/240\n",
      "167/167 [==============================] - 0s 100us/step - loss: 0.0078 - mean_absolute_error: 0.0698 - mean_squared_error: 0.0078 - val_loss: 0.0080 - val_mean_absolute_error: 0.0697 - val_mean_squared_error: 0.0080\n",
      "Epoch 37/240\n",
      "167/167 [==============================] - 0s 73us/step - loss: 0.0078 - mean_absolute_error: 0.0698 - mean_squared_error: 0.0078 - val_loss: 0.0079 - val_mean_absolute_error: 0.0699 - val_mean_squared_error: 0.0079\n",
      "Epoch 38/240\n",
      "167/167 [==============================] - 0s 269us/step - loss: 0.0077 - mean_absolute_error: 0.0697 - mean_squared_error: 0.0077 - val_loss: 0.0079 - val_mean_absolute_error: 0.0693 - val_mean_squared_error: 0.0079\n",
      "Epoch 39/240\n",
      "167/167 [==============================] - 0s 83us/step - loss: 0.0076 - mean_absolute_error: 0.0692 - mean_squared_error: 0.0076 - val_loss: 0.0079 - val_mean_absolute_error: 0.0694 - val_mean_squared_error: 0.0079\n",
      "Epoch 40/240\n",
      "167/167 [==============================] - 0s 89us/step - loss: 0.0076 - mean_absolute_error: 0.0691 - mean_squared_error: 0.0076 - val_loss: 0.0079 - val_mean_absolute_error: 0.0693 - val_mean_squared_error: 0.0079\n",
      "Epoch 41/240\n",
      "167/167 [==============================] - 0s 61us/step - loss: 0.0076 - mean_absolute_error: 0.0688 - mean_squared_error: 0.0076 - val_loss: 0.0079 - val_mean_absolute_error: 0.0694 - val_mean_squared_error: 0.0079\n",
      "Epoch 42/240\n",
      "167/167 [==============================] - 0s 84us/step - loss: 0.0075 - mean_absolute_error: 0.0688 - mean_squared_error: 0.0075 - val_loss: 0.0078 - val_mean_absolute_error: 0.0693 - val_mean_squared_error: 0.0078\n",
      "Epoch 43/240\n",
      "167/167 [==============================] - 0s 96us/step - loss: 0.0075 - mean_absolute_error: 0.0687 - mean_squared_error: 0.0075 - val_loss: 0.0078 - val_mean_absolute_error: 0.0692 - val_mean_squared_error: 0.0078\n",
      "Epoch 44/240\n",
      "167/167 [==============================] - 0s 62us/step - loss: 0.0075 - mean_absolute_error: 0.0685 - mean_squared_error: 0.0075 - val_loss: 0.0078 - val_mean_absolute_error: 0.0692 - val_mean_squared_error: 0.0078\n",
      "Epoch 45/240\n",
      "167/167 [==============================] - 0s 58us/step - loss: 0.0075 - mean_absolute_error: 0.0684 - mean_squared_error: 0.0075 - val_loss: 0.0078 - val_mean_absolute_error: 0.0691 - val_mean_squared_error: 0.0078\n",
      "Epoch 46/240\n",
      "167/167 [==============================] - 0s 279us/step - loss: 0.0074 - mean_absolute_error: 0.0679 - mean_squared_error: 0.0074 - val_loss: 0.0078 - val_mean_absolute_error: 0.0692 - val_mean_squared_error: 0.0078\n",
      "Epoch 47/240\n",
      "167/167 [==============================] - 0s 75us/step - loss: 0.0074 - mean_absolute_error: 0.0681 - mean_squared_error: 0.0074 - val_loss: 0.0078 - val_mean_absolute_error: 0.0694 - val_mean_squared_error: 0.0078\n",
      "Epoch 48/240\n",
      "167/167 [==============================] - 0s 78us/step - loss: 0.0073 - mean_absolute_error: 0.0680 - mean_squared_error: 0.0073 - val_loss: 0.0078 - val_mean_absolute_error: 0.0694 - val_mean_squared_error: 0.0078\n",
      "Epoch 49/240\n",
      "167/167 [==============================] - 0s 68us/step - loss: 0.0073 - mean_absolute_error: 0.0678 - mean_squared_error: 0.0073 - val_loss: 0.0078 - val_mean_absolute_error: 0.0693 - val_mean_squared_error: 0.0078\n",
      "Epoch 50/240\n",
      "167/167 [==============================] - 0s 268us/step - loss: 0.0073 - mean_absolute_error: 0.0675 - mean_squared_error: 0.0073 - val_loss: 0.0077 - val_mean_absolute_error: 0.0690 - val_mean_squared_error: 0.0077\n",
      "Epoch 51/240\n",
      "167/167 [==============================] - 0s 61us/step - loss: 0.0072 - mean_absolute_error: 0.0674 - mean_squared_error: 0.0072 - val_loss: 0.0077 - val_mean_absolute_error: 0.0688 - val_mean_squared_error: 0.0077\n",
      "Epoch 52/240\n",
      "167/167 [==============================] - 0s 56us/step - loss: 0.0072 - mean_absolute_error: 0.0674 - mean_squared_error: 0.0072 - val_loss: 0.0077 - val_mean_absolute_error: 0.0687 - val_mean_squared_error: 0.0077\n",
      "Epoch 53/240\n",
      "167/167 [==============================] - 0s 50us/step - loss: 0.0072 - mean_absolute_error: 0.0673 - mean_squared_error: 0.0072 - val_loss: 0.0076 - val_mean_absolute_error: 0.0685 - val_mean_squared_error: 0.0076\n",
      "Epoch 54/240\n",
      "167/167 [==============================] - 0s 48us/step - loss: 0.0071 - mean_absolute_error: 0.0671 - mean_squared_error: 0.0071 - val_loss: 0.0076 - val_mean_absolute_error: 0.0682 - val_mean_squared_error: 0.0076\n",
      "Epoch 55/240\n",
      "167/167 [==============================] - 0s 293us/step - loss: 0.0071 - mean_absolute_error: 0.0668 - mean_squared_error: 0.0071 - val_loss: 0.0075 - val_mean_absolute_error: 0.0679 - val_mean_squared_error: 0.0075\n",
      "Epoch 56/240\n",
      "167/167 [==============================] - 0s 89us/step - loss: 0.0071 - mean_absolute_error: 0.0665 - mean_squared_error: 0.0071 - val_loss: 0.0075 - val_mean_absolute_error: 0.0678 - val_mean_squared_error: 0.0075\n",
      "Epoch 57/240\n",
      "167/167 [==============================] - 0s 77us/step - loss: 0.0071 - mean_absolute_error: 0.0665 - mean_squared_error: 0.0071 - val_loss: 0.0075 - val_mean_absolute_error: 0.0676 - val_mean_squared_error: 0.0075\n",
      "Epoch 58/240\n",
      "167/167 [==============================] - 0s 76us/step - loss: 0.0071 - mean_absolute_error: 0.0665 - mean_squared_error: 0.0071 - val_loss: 0.0075 - val_mean_absolute_error: 0.0674 - val_mean_squared_error: 0.0075\n",
      "Epoch 59/240\n",
      "167/167 [==============================] - 0s 291us/step - loss: 0.0070 - mean_absolute_error: 0.0664 - mean_squared_error: 0.0070 - val_loss: 0.0074 - val_mean_absolute_error: 0.0672 - val_mean_squared_error: 0.0074\n",
      "Epoch 60/240\n",
      "167/167 [==============================] - 0s 88us/step - loss: 0.0070 - mean_absolute_error: 0.0662 - mean_squared_error: 0.0070 - val_loss: 0.0074 - val_mean_absolute_error: 0.0671 - val_mean_squared_error: 0.0074\n",
      "Epoch 61/240\n",
      "167/167 [==============================] - 0s 74us/step - loss: 0.0069 - mean_absolute_error: 0.0659 - mean_squared_error: 0.0069 - val_loss: 0.0074 - val_mean_absolute_error: 0.0670 - val_mean_squared_error: 0.0074\n",
      "Epoch 62/240\n",
      "167/167 [==============================] - 0s 64us/step - loss: 0.0069 - mean_absolute_error: 0.0657 - mean_squared_error: 0.0069 - val_loss: 0.0074 - val_mean_absolute_error: 0.0668 - val_mean_squared_error: 0.0074\n",
      "Epoch 63/240\n",
      "167/167 [==============================] - 0s 259us/step - loss: 0.0069 - mean_absolute_error: 0.0657 - mean_squared_error: 0.0069 - val_loss: 0.0074 - val_mean_absolute_error: 0.0667 - val_mean_squared_error: 0.0074\n",
      "Epoch 64/240\n",
      "167/167 [==============================] - 0s 75us/step - loss: 0.0069 - mean_absolute_error: 0.0655 - mean_squared_error: 0.0069 - val_loss: 0.0074 - val_mean_absolute_error: 0.0668 - val_mean_squared_error: 0.0074\n",
      "Epoch 65/240\n",
      "167/167 [==============================] - 0s 63us/step - loss: 0.0068 - mean_absolute_error: 0.0655 - mean_squared_error: 0.0068 - val_loss: 0.0074 - val_mean_absolute_error: 0.0668 - val_mean_squared_error: 0.0074\n",
      "Epoch 66/240\n",
      "167/167 [==============================] - 0s 58us/step - loss: 0.0069 - mean_absolute_error: 0.0659 - mean_squared_error: 0.0069 - val_loss: 0.0074 - val_mean_absolute_error: 0.0668 - val_mean_squared_error: 0.0074\n",
      "Epoch 67/240\n",
      "167/167 [==============================] - 0s 289us/step - loss: 0.0068 - mean_absolute_error: 0.0656 - mean_squared_error: 0.0068 - val_loss: 0.0073 - val_mean_absolute_error: 0.0667 - val_mean_squared_error: 0.0073\n",
      "Epoch 68/240\n",
      "167/167 [==============================] - 0s 97us/step - loss: 0.0068 - mean_absolute_error: 0.0650 - mean_squared_error: 0.0068 - val_loss: 0.0074 - val_mean_absolute_error: 0.0667 - val_mean_squared_error: 0.0074\n",
      "Epoch 69/240\n",
      "167/167 [==============================] - 0s 77us/step - loss: 0.0068 - mean_absolute_error: 0.0649 - mean_squared_error: 0.0068 - val_loss: 0.0074 - val_mean_absolute_error: 0.0667 - val_mean_squared_error: 0.0074\n",
      "Epoch 70/240\n",
      "167/167 [==============================] - 0s 76us/step - loss: 0.0068 - mean_absolute_error: 0.0649 - mean_squared_error: 0.0068 - val_loss: 0.0074 - val_mean_absolute_error: 0.0667 - val_mean_squared_error: 0.0074\n",
      "Epoch 71/240\n",
      "167/167 [==============================] - 0s 63us/step - loss: 0.0067 - mean_absolute_error: 0.0649 - mean_squared_error: 0.0067 - val_loss: 0.0074 - val_mean_absolute_error: 0.0669 - val_mean_squared_error: 0.0074\n",
      "Epoch 72/240\n",
      "167/167 [==============================] - 0s 72us/step - loss: 0.0067 - mean_absolute_error: 0.0647 - mean_squared_error: 0.0067 - val_loss: 0.0074 - val_mean_absolute_error: 0.0668 - val_mean_squared_error: 0.0074\n",
      "Epoch 73/240\n",
      "167/167 [==============================] - 0s 93us/step - loss: 0.0067 - mean_absolute_error: 0.0646 - mean_squared_error: 0.0067 - val_loss: 0.0074 - val_mean_absolute_error: 0.0667 - val_mean_squared_error: 0.0074\n",
      "Epoch 74/240\n",
      "167/167 [==============================] - 0s 65us/step - loss: 0.0067 - mean_absolute_error: 0.0645 - mean_squared_error: 0.0067 - val_loss: 0.0073 - val_mean_absolute_error: 0.0663 - val_mean_squared_error: 0.0073\n",
      "Epoch 75/240\n",
      "167/167 [==============================] - 0s 60us/step - loss: 0.0067 - mean_absolute_error: 0.0645 - mean_squared_error: 0.0067 - val_loss: 0.0073 - val_mean_absolute_error: 0.0660 - val_mean_squared_error: 0.0073\n",
      "Epoch 76/240\n",
      "167/167 [==============================] - 0s 57us/step - loss: 0.0067 - mean_absolute_error: 0.0647 - mean_squared_error: 0.0067 - val_loss: 0.0073 - val_mean_absolute_error: 0.0663 - val_mean_squared_error: 0.0073\n",
      "Epoch 77/240\n",
      "167/167 [==============================] - 0s 299us/step - loss: 0.0067 - mean_absolute_error: 0.0646 - mean_squared_error: 0.0067 - val_loss: 0.0073 - val_mean_absolute_error: 0.0663 - val_mean_squared_error: 0.0073\n",
      "Epoch 78/240\n",
      "167/167 [==============================] - 0s 98us/step - loss: 0.0066 - mean_absolute_error: 0.0642 - mean_squared_error: 0.0066 - val_loss: 0.0074 - val_mean_absolute_error: 0.0668 - val_mean_squared_error: 0.0074\n",
      "Epoch 79/240\n",
      "167/167 [==============================] - 0s 75us/step - loss: 0.0067 - mean_absolute_error: 0.0639 - mean_squared_error: 0.0067 - val_loss: 0.0074 - val_mean_absolute_error: 0.0665 - val_mean_squared_error: 0.0074\n",
      "Epoch 80/240\n",
      "167/167 [==============================] - 0s 58us/step - loss: 0.0066 - mean_absolute_error: 0.0640 - mean_squared_error: 0.0066 - val_loss: 0.0074 - val_mean_absolute_error: 0.0663 - val_mean_squared_error: 0.0074\n",
      "Epoch 81/240\n",
      "167/167 [==============================] - 0s 230us/step - loss: 0.0066 - mean_absolute_error: 0.0640 - mean_squared_error: 0.0066 - val_loss: 0.0074 - val_mean_absolute_error: 0.0664 - val_mean_squared_error: 0.0074\n",
      "Epoch 82/240\n",
      "167/167 [==============================] - 0s 81us/step - loss: 0.0066 - mean_absolute_error: 0.0642 - mean_squared_error: 0.0066 - val_loss: 0.0074 - val_mean_absolute_error: 0.0663 - val_mean_squared_error: 0.0074\n",
      "Epoch 83/240\n",
      "167/167 [==============================] - 0s 64us/step - loss: 0.0066 - mean_absolute_error: 0.0639 - mean_squared_error: 0.0066 - val_loss: 0.0073 - val_mean_absolute_error: 0.0660 - val_mean_squared_error: 0.0073\n",
      "Epoch 84/240\n",
      "167/167 [==============================] - 0s 61us/step - loss: 0.0065 - mean_absolute_error: 0.0636 - mean_squared_error: 0.0065 - val_loss: 0.0073 - val_mean_absolute_error: 0.0660 - val_mean_squared_error: 0.0073\n",
      "Epoch 85/240\n",
      "167/167 [==============================] - 0s 57us/step - loss: 0.0065 - mean_absolute_error: 0.0635 - mean_squared_error: 0.0065 - val_loss: 0.0073 - val_mean_absolute_error: 0.0661 - val_mean_squared_error: 0.0073\n",
      "Epoch 86/240\n",
      "167/167 [==============================] - 0s 258us/step - loss: 0.0065 - mean_absolute_error: 0.0636 - mean_squared_error: 0.0065 - val_loss: 0.0073 - val_mean_absolute_error: 0.0661 - val_mean_squared_error: 0.0073\n",
      "Epoch 87/240\n",
      "167/167 [==============================] - 0s 72us/step - loss: 0.0065 - mean_absolute_error: 0.0636 - mean_squared_error: 0.0065 - val_loss: 0.0073 - val_mean_absolute_error: 0.0662 - val_mean_squared_error: 0.0073\n",
      "Epoch 88/240\n",
      "167/167 [==============================] - 0s 82us/step - loss: 0.0065 - mean_absolute_error: 0.0636 - mean_squared_error: 0.0065 - val_loss: 0.0073 - val_mean_absolute_error: 0.0661 - val_mean_squared_error: 0.0073\n",
      "Epoch 89/240\n",
      "167/167 [==============================] - 0s 68us/step - loss: 0.0065 - mean_absolute_error: 0.0636 - mean_squared_error: 0.0065 - val_loss: 0.0074 - val_mean_absolute_error: 0.0660 - val_mean_squared_error: 0.0074\n",
      "Epoch 90/240\n",
      "167/167 [==============================] - 0s 231us/step - loss: 0.0065 - mean_absolute_error: 0.0633 - mean_squared_error: 0.0065 - val_loss: 0.0073 - val_mean_absolute_error: 0.0658 - val_mean_squared_error: 0.0073\n",
      "Epoch 91/240\n",
      "167/167 [==============================] - 0s 86us/step - loss: 0.0065 - mean_absolute_error: 0.0631 - mean_squared_error: 0.0065 - val_loss: 0.0074 - val_mean_absolute_error: 0.0663 - val_mean_squared_error: 0.0074\n",
      "Epoch 92/240\n",
      "167/167 [==============================] - 0s 116us/step - loss: 0.0064 - mean_absolute_error: 0.0631 - mean_squared_error: 0.0064 - val_loss: 0.0074 - val_mean_absolute_error: 0.0661 - val_mean_squared_error: 0.0074\n",
      "Epoch 93/240\n",
      "167/167 [==============================] - 0s 61us/step - loss: 0.0064 - mean_absolute_error: 0.0630 - mean_squared_error: 0.0064 - val_loss: 0.0073 - val_mean_absolute_error: 0.0657 - val_mean_squared_error: 0.0073\n",
      "Epoch 94/240\n",
      "167/167 [==============================] - 0s 61us/step - loss: 0.0064 - mean_absolute_error: 0.0631 - mean_squared_error: 0.0064 - val_loss: 0.0072 - val_mean_absolute_error: 0.0655 - val_mean_squared_error: 0.0072\n",
      "Epoch 95/240\n",
      "167/167 [==============================] - 0s 298us/step - loss: 0.0064 - mean_absolute_error: 0.0629 - mean_squared_error: 0.0064 - val_loss: 0.0072 - val_mean_absolute_error: 0.0658 - val_mean_squared_error: 0.0072\n",
      "Epoch 96/240\n",
      "167/167 [==============================] - 0s 71us/step - loss: 0.0064 - mean_absolute_error: 0.0628 - mean_squared_error: 0.0064 - val_loss: 0.0073 - val_mean_absolute_error: 0.0653 - val_mean_squared_error: 0.0073\n",
      "Epoch 97/240\n",
      "167/167 [==============================] - 0s 71us/step - loss: 0.0064 - mean_absolute_error: 0.0626 - mean_squared_error: 0.0064 - val_loss: 0.0073 - val_mean_absolute_error: 0.0655 - val_mean_squared_error: 0.0073\n",
      "Epoch 98/240\n",
      "167/167 [==============================] - 0s 60us/step - loss: 0.0064 - mean_absolute_error: 0.0624 - mean_squared_error: 0.0064 - val_loss: 0.0073 - val_mean_absolute_error: 0.0652 - val_mean_squared_error: 0.0073\n",
      "Epoch 99/240\n",
      "167/167 [==============================] - 0s 53us/step - loss: 0.0063 - mean_absolute_error: 0.0625 - mean_squared_error: 0.0063 - val_loss: 0.0073 - val_mean_absolute_error: 0.0656 - val_mean_squared_error: 0.0073\n",
      "Epoch 100/240\n",
      "167/167 [==============================] - 0s 89us/step - loss: 0.0063 - mean_absolute_error: 0.0626 - mean_squared_error: 0.0063 - val_loss: 0.0072 - val_mean_absolute_error: 0.0652 - val_mean_squared_error: 0.0072\n",
      "Epoch 101/240\n",
      "167/167 [==============================] - 0s 99us/step - loss: 0.0063 - mean_absolute_error: 0.0623 - mean_squared_error: 0.0063 - val_loss: 0.0071 - val_mean_absolute_error: 0.0651 - val_mean_squared_error: 0.0071\n",
      "Epoch 102/240\n",
      "167/167 [==============================] - 0s 75us/step - loss: 0.0063 - mean_absolute_error: 0.0621 - mean_squared_error: 0.0063 - val_loss: 0.0071 - val_mean_absolute_error: 0.0647 - val_mean_squared_error: 0.0071\n",
      "Epoch 103/240\n",
      "167/167 [==============================] - 0s 57us/step - loss: 0.0063 - mean_absolute_error: 0.0620 - mean_squared_error: 0.0063 - val_loss: 0.0071 - val_mean_absolute_error: 0.0647 - val_mean_squared_error: 0.0071\n",
      "Epoch 104/240\n",
      "167/167 [==============================] - 0s 134us/step - loss: 0.0063 - mean_absolute_error: 0.0618 - mean_squared_error: 0.0063 - val_loss: 0.0071 - val_mean_absolute_error: 0.0649 - val_mean_squared_error: 0.0071\n",
      "Epoch 105/240\n",
      "167/167 [==============================] - 0s 65us/step - loss: 0.0063 - mean_absolute_error: 0.0619 - mean_squared_error: 0.0063 - val_loss: 0.0071 - val_mean_absolute_error: 0.0651 - val_mean_squared_error: 0.0071\n",
      "Epoch 106/240\n",
      "167/167 [==============================] - 0s 79us/step - loss: 0.0062 - mean_absolute_error: 0.0618 - mean_squared_error: 0.0062 - val_loss: 0.0071 - val_mean_absolute_error: 0.0647 - val_mean_squared_error: 0.0071\n",
      "Epoch 107/240\n",
      "167/167 [==============================] - 0s 60us/step - loss: 0.0062 - mean_absolute_error: 0.0617 - mean_squared_error: 0.0062 - val_loss: 0.0072 - val_mean_absolute_error: 0.0648 - val_mean_squared_error: 0.0072\n",
      "Epoch 108/240\n",
      "167/167 [==============================] - 0s 63us/step - loss: 0.0062 - mean_absolute_error: 0.0618 - mean_squared_error: 0.0062 - val_loss: 0.0072 - val_mean_absolute_error: 0.0648 - val_mean_squared_error: 0.0072\n",
      "Epoch 109/240\n",
      "167/167 [==============================] - 0s 51us/step - loss: 0.0062 - mean_absolute_error: 0.0618 - mean_squared_error: 0.0062 - val_loss: 0.0072 - val_mean_absolute_error: 0.0648 - val_mean_squared_error: 0.0072\n",
      "Epoch 110/240\n",
      "167/167 [==============================] - 0s 259us/step - loss: 0.0062 - mean_absolute_error: 0.0615 - mean_squared_error: 0.0062 - val_loss: 0.0071 - val_mean_absolute_error: 0.0650 - val_mean_squared_error: 0.0071\n",
      "Epoch 111/240\n",
      "167/167 [==============================] - 0s 78us/step - loss: 0.0062 - mean_absolute_error: 0.0615 - mean_squared_error: 0.0062 - val_loss: 0.0071 - val_mean_absolute_error: 0.0649 - val_mean_squared_error: 0.0071\n",
      "Epoch 112/240\n",
      "167/167 [==============================] - 0s 59us/step - loss: 0.0062 - mean_absolute_error: 0.0616 - mean_squared_error: 0.0062 - val_loss: 0.0070 - val_mean_absolute_error: 0.0650 - val_mean_squared_error: 0.0070\n",
      "Epoch 113/240\n",
      "167/167 [==============================] - 0s 61us/step - loss: 0.0062 - mean_absolute_error: 0.0614 - mean_squared_error: 0.0062 - val_loss: 0.0071 - val_mean_absolute_error: 0.0648 - val_mean_squared_error: 0.0071\n",
      "Epoch 114/240\n",
      "167/167 [==============================] - 0s 248us/step - loss: 0.0061 - mean_absolute_error: 0.0613 - mean_squared_error: 0.0061 - val_loss: 0.0071 - val_mean_absolute_error: 0.0648 - val_mean_squared_error: 0.0071\n",
      "Epoch 115/240\n",
      "167/167 [==============================] - 0s 64us/step - loss: 0.0061 - mean_absolute_error: 0.0614 - mean_squared_error: 0.0061 - val_loss: 0.0072 - val_mean_absolute_error: 0.0648 - val_mean_squared_error: 0.0072\n",
      "Epoch 116/240\n",
      "167/167 [==============================] - 0s 62us/step - loss: 0.0061 - mean_absolute_error: 0.0613 - mean_squared_error: 0.0061 - val_loss: 0.0071 - val_mean_absolute_error: 0.0649 - val_mean_squared_error: 0.0071\n",
      "Epoch 117/240\n",
      "167/167 [==============================] - 0s 59us/step - loss: 0.0061 - mean_absolute_error: 0.0611 - mean_squared_error: 0.0061 - val_loss: 0.0071 - val_mean_absolute_error: 0.0647 - val_mean_squared_error: 0.0071\n",
      "Epoch 118/240\n",
      "167/167 [==============================] - 0s 76us/step - loss: 0.0061 - mean_absolute_error: 0.0611 - mean_squared_error: 0.0061 - val_loss: 0.0070 - val_mean_absolute_error: 0.0647 - val_mean_squared_error: 0.0070\n",
      "Epoch 119/240\n",
      "167/167 [==============================] - 0s 302us/step - loss: 0.0061 - mean_absolute_error: 0.0610 - mean_squared_error: 0.0061 - val_loss: 0.0070 - val_mean_absolute_error: 0.0646 - val_mean_squared_error: 0.0070\n",
      "Epoch 120/240\n",
      "167/167 [==============================] - 0s 59us/step - loss: 0.0061 - mean_absolute_error: 0.0608 - mean_squared_error: 0.0061 - val_loss: 0.0071 - val_mean_absolute_error: 0.0648 - val_mean_squared_error: 0.0071\n",
      "Epoch 121/240\n",
      "167/167 [==============================] - 0s 56us/step - loss: 0.0061 - mean_absolute_error: 0.0607 - mean_squared_error: 0.0061 - val_loss: 0.0071 - val_mean_absolute_error: 0.0648 - val_mean_squared_error: 0.0071\n",
      "Epoch 122/240\n",
      "167/167 [==============================] - 0s 55us/step - loss: 0.0060 - mean_absolute_error: 0.0607 - mean_squared_error: 0.0060 - val_loss: 0.0071 - val_mean_absolute_error: 0.0649 - val_mean_squared_error: 0.0071\n",
      "Epoch 123/240\n",
      "167/167 [==============================] - 0s 59us/step - loss: 0.0060 - mean_absolute_error: 0.0607 - mean_squared_error: 0.0060 - val_loss: 0.0071 - val_mean_absolute_error: 0.0645 - val_mean_squared_error: 0.0071\n",
      "Epoch 124/240\n",
      "167/167 [==============================] - 0s 299us/step - loss: 0.0061 - mean_absolute_error: 0.0611 - mean_squared_error: 0.0061 - val_loss: 0.0071 - val_mean_absolute_error: 0.0647 - val_mean_squared_error: 0.0071\n",
      "Epoch 125/240\n",
      "167/167 [==============================] - 0s 89us/step - loss: 0.0060 - mean_absolute_error: 0.0608 - mean_squared_error: 0.0060 - val_loss: 0.0071 - val_mean_absolute_error: 0.0641 - val_mean_squared_error: 0.0071\n",
      "Epoch 126/240\n",
      "167/167 [==============================] - 0s 67us/step - loss: 0.0060 - mean_absolute_error: 0.0603 - mean_squared_error: 0.0060 - val_loss: 0.0070 - val_mean_absolute_error: 0.0641 - val_mean_squared_error: 0.0070\n",
      "Epoch 127/240\n",
      "167/167 [==============================] - 0s 56us/step - loss: 0.0060 - mean_absolute_error: 0.0602 - mean_squared_error: 0.0060 - val_loss: 0.0070 - val_mean_absolute_error: 0.0644 - val_mean_squared_error: 0.0070\n",
      "Epoch 128/240\n",
      "167/167 [==============================] - 0s 335us/step - loss: 0.0059 - mean_absolute_error: 0.0603 - mean_squared_error: 0.0059 - val_loss: 0.0071 - val_mean_absolute_error: 0.0644 - val_mean_squared_error: 0.0071\n",
      "Epoch 129/240\n",
      "167/167 [==============================] - ETA: 0s - loss: 0.0068 - mean_absolute_error: 0.0616 - mean_squared_error: 0.00 - 0s 53us/step - loss: 0.0059 - mean_absolute_error: 0.0604 - mean_squared_error: 0.0059 - val_loss: 0.0071 - val_mean_absolute_error: 0.0643 - val_mean_squared_error: 0.0071\n",
      "Epoch 130/240\n",
      "167/167 [==============================] - 0s 54us/step - loss: 0.0059 - mean_absolute_error: 0.0601 - mean_squared_error: 0.0059 - val_loss: 0.0070 - val_mean_absolute_error: 0.0643 - val_mean_squared_error: 0.0070\n",
      "Epoch 131/240\n",
      "167/167 [==============================] - 0s 51us/step - loss: 0.0059 - mean_absolute_error: 0.0599 - mean_squared_error: 0.0059 - val_loss: 0.0070 - val_mean_absolute_error: 0.0644 - val_mean_squared_error: 0.0070\n",
      "Epoch 132/240\n",
      "167/167 [==============================] - 0s 357us/step - loss: 0.0059 - mean_absolute_error: 0.0599 - mean_squared_error: 0.0059 - val_loss: 0.0070 - val_mean_absolute_error: 0.0646 - val_mean_squared_error: 0.0070\n",
      "Epoch 133/240\n",
      "167/167 [==============================] - 0s 66us/step - loss: 0.0059 - mean_absolute_error: 0.0600 - mean_squared_error: 0.0059 - val_loss: 0.0071 - val_mean_absolute_error: 0.0648 - val_mean_squared_error: 0.0071\n",
      "Epoch 134/240\n",
      "167/167 [==============================] - 0s 59us/step - loss: 0.0059 - mean_absolute_error: 0.0599 - mean_squared_error: 0.0059 - val_loss: 0.0071 - val_mean_absolute_error: 0.0647 - val_mean_squared_error: 0.0071\n",
      "Epoch 135/240\n",
      "167/167 [==============================] - 0s 61us/step - loss: 0.0059 - mean_absolute_error: 0.0598 - mean_squared_error: 0.0059 - val_loss: 0.0071 - val_mean_absolute_error: 0.0644 - val_mean_squared_error: 0.0071\n",
      "Epoch 136/240\n",
      "167/167 [==============================] - 0s 62us/step - loss: 0.0058 - mean_absolute_error: 0.0595 - mean_squared_error: 0.0058 - val_loss: 0.0071 - val_mean_absolute_error: 0.0642 - val_mean_squared_error: 0.0071\n",
      "Epoch 137/240\n",
      "167/167 [==============================] - 0s 330us/step - loss: 0.0059 - mean_absolute_error: 0.0597 - mean_squared_error: 0.0059 - val_loss: 0.0071 - val_mean_absolute_error: 0.0642 - val_mean_squared_error: 0.0071\n",
      "Epoch 138/240\n",
      "167/167 [==============================] - 0s 72us/step - loss: 0.0058 - mean_absolute_error: 0.0595 - mean_squared_error: 0.0058 - val_loss: 0.0071 - val_mean_absolute_error: 0.0642 - val_mean_squared_error: 0.0071\n",
      "Epoch 139/240\n",
      "167/167 [==============================] - 0s 65us/step - loss: 0.0058 - mean_absolute_error: 0.0595 - mean_squared_error: 0.0058 - val_loss: 0.0071 - val_mean_absolute_error: 0.0645 - val_mean_squared_error: 0.0071\n",
      "Epoch 140/240\n",
      "167/167 [==============================] - 0s 59us/step - loss: 0.0058 - mean_absolute_error: 0.0598 - mean_squared_error: 0.0058 - val_loss: 0.0070 - val_mean_absolute_error: 0.0646 - val_mean_squared_error: 0.0070\n",
      "Epoch 141/240\n",
      "167/167 [==============================] - ETA: 0s - loss: 0.0071 - mean_absolute_error: 0.0636 - mean_squared_error: 0.00 - 0s 276us/step - loss: 0.0058 - mean_absolute_error: 0.0593 - mean_squared_error: 0.0058 - val_loss: 0.0070 - val_mean_absolute_error: 0.0641 - val_mean_squared_error: 0.0070\n",
      "Epoch 142/240\n",
      "167/167 [==============================] - 0s 63us/step - loss: 0.0058 - mean_absolute_error: 0.0591 - mean_squared_error: 0.0058 - val_loss: 0.0069 - val_mean_absolute_error: 0.0643 - val_mean_squared_error: 0.0069\n",
      "Epoch 143/240\n",
      "167/167 [==============================] - 0s 59us/step - loss: 0.0058 - mean_absolute_error: 0.0592 - mean_squared_error: 0.0058 - val_loss: 0.0070 - val_mean_absolute_error: 0.0643 - val_mean_squared_error: 0.0070\n",
      "Epoch 144/240\n",
      "167/167 [==============================] - 0s 61us/step - loss: 0.0057 - mean_absolute_error: 0.0592 - mean_squared_error: 0.0057 - val_loss: 0.0070 - val_mean_absolute_error: 0.0641 - val_mean_squared_error: 0.0070\n",
      "Epoch 145/240\n",
      "167/167 [==============================] - 0s 51us/step - loss: 0.0057 - mean_absolute_error: 0.0588 - mean_squared_error: 0.0057 - val_loss: 0.0070 - val_mean_absolute_error: 0.0639 - val_mean_squared_error: 0.0070\n",
      "Epoch 146/240\n",
      "167/167 [==============================] - 0s 55us/step - loss: 0.0057 - mean_absolute_error: 0.0588 - mean_squared_error: 0.0057 - val_loss: 0.0071 - val_mean_absolute_error: 0.0642 - val_mean_squared_error: 0.0071\n",
      "Epoch 147/240\n",
      "167/167 [==============================] - 0s 197us/step - loss: 0.0057 - mean_absolute_error: 0.0588 - mean_squared_error: 0.0057 - val_loss: 0.0070 - val_mean_absolute_error: 0.0644 - val_mean_squared_error: 0.0070\n",
      "Epoch 148/240\n",
      "167/167 [==============================] - 0s 84us/step - loss: 0.0056 - mean_absolute_error: 0.0587 - mean_squared_error: 0.0056 - val_loss: 0.0070 - val_mean_absolute_error: 0.0643 - val_mean_squared_error: 0.0070\n",
      "Epoch 149/240\n",
      "167/167 [==============================] - 0s 65us/step - loss: 0.0056 - mean_absolute_error: 0.0583 - mean_squared_error: 0.0056 - val_loss: 0.0070 - val_mean_absolute_error: 0.0641 - val_mean_squared_error: 0.0070\n",
      "Epoch 150/240\n",
      "167/167 [==============================] - 0s 77us/step - loss: 0.0057 - mean_absolute_error: 0.0583 - mean_squared_error: 0.0057 - val_loss: 0.0069 - val_mean_absolute_error: 0.0639 - val_mean_squared_error: 0.0069\n",
      "Epoch 151/240\n",
      "167/167 [==============================] - 0s 238us/step - loss: 0.0056 - mean_absolute_error: 0.0579 - mean_squared_error: 0.0056 - val_loss: 0.0070 - val_mean_absolute_error: 0.0646 - val_mean_squared_error: 0.0070\n",
      "Epoch 152/240\n",
      "167/167 [==============================] - 0s 74us/step - loss: 0.0056 - mean_absolute_error: 0.0588 - mean_squared_error: 0.0056 - val_loss: 0.0071 - val_mean_absolute_error: 0.0651 - val_mean_squared_error: 0.0071\n",
      "Epoch 153/240\n",
      "167/167 [==============================] - 0s 85us/step - loss: 0.0056 - mean_absolute_error: 0.0589 - mean_squared_error: 0.0056 - val_loss: 0.0070 - val_mean_absolute_error: 0.0644 - val_mean_squared_error: 0.0070\n",
      "Epoch 154/240\n",
      "167/167 [==============================] - 0s 79us/step - loss: 0.0056 - mean_absolute_error: 0.0577 - mean_squared_error: 0.0056 - val_loss: 0.0070 - val_mean_absolute_error: 0.0643 - val_mean_squared_error: 0.0070\n",
      "Epoch 155/240\n",
      "167/167 [==============================] - 0s 68us/step - loss: 0.0056 - mean_absolute_error: 0.0580 - mean_squared_error: 0.0056 - val_loss: 0.0070 - val_mean_absolute_error: 0.0644 - val_mean_squared_error: 0.0070\n",
      "Epoch 156/240\n",
      "167/167 [==============================] - 0s 77us/step - loss: 0.0056 - mean_absolute_error: 0.0581 - mean_squared_error: 0.0056 - val_loss: 0.0071 - val_mean_absolute_error: 0.0653 - val_mean_squared_error: 0.0071\n",
      "Epoch 157/240\n",
      "167/167 [==============================] - 0s 64us/step - loss: 0.0056 - mean_absolute_error: 0.0584 - mean_squared_error: 0.0056 - val_loss: 0.0070 - val_mean_absolute_error: 0.0646 - val_mean_squared_error: 0.0070\n",
      "Epoch 158/240\n",
      "167/167 [==============================] - 0s 91us/step - loss: 0.0055 - mean_absolute_error: 0.0577 - mean_squared_error: 0.0055 - val_loss: 0.0070 - val_mean_absolute_error: 0.0644 - val_mean_squared_error: 0.0070\n",
      "Epoch 159/240\n",
      "167/167 [==============================] - 0s 52us/step - loss: 0.0055 - mean_absolute_error: 0.0573 - mean_squared_error: 0.0055 - val_loss: 0.0070 - val_mean_absolute_error: 0.0641 - val_mean_squared_error: 0.0070\n",
      "Epoch 160/240\n",
      "167/167 [==============================] - 0s 273us/step - loss: 0.0055 - mean_absolute_error: 0.0572 - mean_squared_error: 0.0055 - val_loss: 0.0069 - val_mean_absolute_error: 0.0641 - val_mean_squared_error: 0.0069\n",
      "Epoch 161/240\n",
      "167/167 [==============================] - 0s 85us/step - loss: 0.0055 - mean_absolute_error: 0.0575 - mean_squared_error: 0.0055 - val_loss: 0.0070 - val_mean_absolute_error: 0.0645 - val_mean_squared_error: 0.0070\n",
      "Epoch 162/240\n",
      "167/167 [==============================] - 0s 73us/step - loss: 0.0054 - mean_absolute_error: 0.0577 - mean_squared_error: 0.0054 - val_loss: 0.0070 - val_mean_absolute_error: 0.0644 - val_mean_squared_error: 0.0070\n",
      "Epoch 163/240\n",
      "167/167 [==============================] - 0s 53us/step - loss: 0.0055 - mean_absolute_error: 0.0577 - mean_squared_error: 0.0055 - val_loss: 0.0070 - val_mean_absolute_error: 0.0644 - val_mean_squared_error: 0.0070\n",
      "Epoch 164/240\n",
      "167/167 [==============================] - 0s 54us/step - loss: 0.0054 - mean_absolute_error: 0.0574 - mean_squared_error: 0.0054 - val_loss: 0.0070 - val_mean_absolute_error: 0.0645 - val_mean_squared_error: 0.0070\n",
      "Epoch 165/240\n",
      "167/167 [==============================] - 0s 73us/step - loss: 0.0054 - mean_absolute_error: 0.0572 - mean_squared_error: 0.0054 - val_loss: 0.0070 - val_mean_absolute_error: 0.0643 - val_mean_squared_error: 0.0070\n",
      "Epoch 166/240\n",
      "167/167 [==============================] - 0s 71us/step - loss: 0.0054 - mean_absolute_error: 0.0571 - mean_squared_error: 0.0054 - val_loss: 0.0070 - val_mean_absolute_error: 0.0640 - val_mean_squared_error: 0.0070\n",
      "Epoch 167/240\n",
      "167/167 [==============================] - 0s 76us/step - loss: 0.0054 - mean_absolute_error: 0.0567 - mean_squared_error: 0.0054 - val_loss: 0.0070 - val_mean_absolute_error: 0.0636 - val_mean_squared_error: 0.0070\n",
      "Epoch 168/240\n",
      "167/167 [==============================] - 0s 55us/step - loss: 0.0054 - mean_absolute_error: 0.0566 - mean_squared_error: 0.0054 - val_loss: 0.0069 - val_mean_absolute_error: 0.0635 - val_mean_squared_error: 0.0069\n",
      "Epoch 169/240\n",
      "167/167 [==============================] - 0s 289us/step - loss: 0.0053 - mean_absolute_error: 0.0564 - mean_squared_error: 0.0053 - val_loss: 0.0069 - val_mean_absolute_error: 0.0641 - val_mean_squared_error: 0.0069\n",
      "Epoch 170/240\n",
      "167/167 [==============================] - 0s 83us/step - loss: 0.0053 - mean_absolute_error: 0.0570 - mean_squared_error: 0.0053 - val_loss: 0.0070 - val_mean_absolute_error: 0.0645 - val_mean_squared_error: 0.0070\n",
      "Epoch 171/240\n",
      "167/167 [==============================] - 0s 53us/step - loss: 0.0053 - mean_absolute_error: 0.0569 - mean_squared_error: 0.0053 - val_loss: 0.0070 - val_mean_absolute_error: 0.0643 - val_mean_squared_error: 0.0070\n",
      "Epoch 172/240\n",
      "167/167 [==============================] - 0s 66us/step - loss: 0.0053 - mean_absolute_error: 0.0563 - mean_squared_error: 0.0053 - val_loss: 0.0070 - val_mean_absolute_error: 0.0642 - val_mean_squared_error: 0.0070\n",
      "Epoch 173/240\n",
      "167/167 [==============================] - 0s 66us/step - loss: 0.0053 - mean_absolute_error: 0.0564 - mean_squared_error: 0.0053 - val_loss: 0.0071 - val_mean_absolute_error: 0.0644 - val_mean_squared_error: 0.0071\n",
      "Epoch 174/240\n",
      "167/167 [==============================] - 0s 195us/step - loss: 0.0053 - mean_absolute_error: 0.0566 - mean_squared_error: 0.0053 - val_loss: 0.0071 - val_mean_absolute_error: 0.0640 - val_mean_squared_error: 0.0071\n",
      "Epoch 175/240\n",
      "167/167 [==============================] - 0s 80us/step - loss: 0.0053 - mean_absolute_error: 0.0564 - mean_squared_error: 0.0053 - val_loss: 0.0069 - val_mean_absolute_error: 0.0638 - val_mean_squared_error: 0.0069\n",
      "Epoch 176/240\n",
      "167/167 [==============================] - 0s 66us/step - loss: 0.0053 - mean_absolute_error: 0.0562 - mean_squared_error: 0.0053 - val_loss: 0.0069 - val_mean_absolute_error: 0.0639 - val_mean_squared_error: 0.0069\n",
      "Epoch 177/240\n",
      "167/167 [==============================] - 0s 61us/step - loss: 0.0052 - mean_absolute_error: 0.0563 - mean_squared_error: 0.0052 - val_loss: 0.0071 - val_mean_absolute_error: 0.0646 - val_mean_squared_error: 0.0071\n",
      "Epoch 178/240\n",
      "167/167 [==============================] - 0s 68us/step - loss: 0.0052 - mean_absolute_error: 0.0568 - mean_squared_error: 0.0052 - val_loss: 0.0071 - val_mean_absolute_error: 0.0646 - val_mean_squared_error: 0.0071\n",
      "Epoch 179/240\n",
      "167/167 [==============================] - 0s 274us/step - loss: 0.0052 - mean_absolute_error: 0.0560 - mean_squared_error: 0.0052 - val_loss: 0.0072 - val_mean_absolute_error: 0.0651 - val_mean_squared_error: 0.0072\n",
      "Epoch 180/240\n",
      "167/167 [==============================] - 0s 57us/step - loss: 0.0052 - mean_absolute_error: 0.0558 - mean_squared_error: 0.0052 - val_loss: 0.0071 - val_mean_absolute_error: 0.0645 - val_mean_squared_error: 0.0071\n",
      "Epoch 181/240\n",
      "167/167 [==============================] - 0s 62us/step - loss: 0.0052 - mean_absolute_error: 0.0566 - mean_squared_error: 0.0052 - val_loss: 0.0071 - val_mean_absolute_error: 0.0644 - val_mean_squared_error: 0.0071\n",
      "Epoch 182/240\n",
      "167/167 [==============================] - 0s 59us/step - loss: 0.0052 - mean_absolute_error: 0.0561 - mean_squared_error: 0.0052 - val_loss: 0.0071 - val_mean_absolute_error: 0.0644 - val_mean_squared_error: 0.0071\n",
      "Epoch 183/240\n",
      "167/167 [==============================] - 0s 60us/step - loss: 0.0051 - mean_absolute_error: 0.0556 - mean_squared_error: 0.0051 - val_loss: 0.0070 - val_mean_absolute_error: 0.0639 - val_mean_squared_error: 0.0070\n",
      "Epoch 184/240\n",
      "167/167 [==============================] - 0s 240us/step - loss: 0.0052 - mean_absolute_error: 0.0558 - mean_squared_error: 0.0052 - val_loss: 0.0070 - val_mean_absolute_error: 0.0641 - val_mean_squared_error: 0.0070\n",
      "Epoch 185/240\n",
      "167/167 [==============================] - 0s 60us/step - loss: 0.0052 - mean_absolute_error: 0.0558 - mean_squared_error: 0.0052 - val_loss: 0.0071 - val_mean_absolute_error: 0.0643 - val_mean_squared_error: 0.0071\n",
      "Epoch 186/240\n",
      "167/167 [==============================] - 0s 60us/step - loss: 0.0051 - mean_absolute_error: 0.0555 - mean_squared_error: 0.0051 - val_loss: 0.0072 - val_mean_absolute_error: 0.0652 - val_mean_squared_error: 0.0072\n",
      "Epoch 187/240\n",
      "167/167 [==============================] - 0s 60us/step - loss: 0.0051 - mean_absolute_error: 0.0555 - mean_squared_error: 0.0051 - val_loss: 0.0072 - val_mean_absolute_error: 0.0651 - val_mean_squared_error: 0.0072\n",
      "Epoch 188/240\n",
      "167/167 [==============================] - 0s 57us/step - loss: 0.0051 - mean_absolute_error: 0.0552 - mean_squared_error: 0.0051 - val_loss: 0.0071 - val_mean_absolute_error: 0.0646 - val_mean_squared_error: 0.0071\n",
      "Epoch 189/240\n",
      "167/167 [==============================] - 0s 290us/step - loss: 0.0051 - mean_absolute_error: 0.0558 - mean_squared_error: 0.0051 - val_loss: 0.0071 - val_mean_absolute_error: 0.0645 - val_mean_squared_error: 0.0071\n",
      "Epoch 190/240\n",
      "167/167 [==============================] - 0s 77us/step - loss: 0.0051 - mean_absolute_error: 0.0556 - mean_squared_error: 0.0051 - val_loss: 0.0071 - val_mean_absolute_error: 0.0644 - val_mean_squared_error: 0.0071\n",
      "Epoch 191/240\n",
      "167/167 [==============================] - 0s 73us/step - loss: 0.0051 - mean_absolute_error: 0.0554 - mean_squared_error: 0.0051 - val_loss: 0.0072 - val_mean_absolute_error: 0.0648 - val_mean_squared_error: 0.0072\n",
      "Epoch 192/240\n",
      "167/167 [==============================] - 0s 61us/step - loss: 0.0050 - mean_absolute_error: 0.0552 - mean_squared_error: 0.0050 - val_loss: 0.0071 - val_mean_absolute_error: 0.0648 - val_mean_squared_error: 0.0071\n",
      "Epoch 193/240\n",
      "167/167 [==============================] - 0s 126us/step - loss: 0.0051 - mean_absolute_error: 0.0560 - mean_squared_error: 0.0051 - val_loss: 0.0071 - val_mean_absolute_error: 0.0648 - val_mean_squared_error: 0.0071\n",
      "Epoch 194/240\n",
      "167/167 [==============================] - 0s 80us/step - loss: 0.0050 - mean_absolute_error: 0.0553 - mean_squared_error: 0.0050 - val_loss: 0.0072 - val_mean_absolute_error: 0.0643 - val_mean_squared_error: 0.0072\n",
      "Epoch 195/240\n",
      "167/167 [==============================] - 0s 81us/step - loss: 0.0051 - mean_absolute_error: 0.0548 - mean_squared_error: 0.0051 - val_loss: 0.0072 - val_mean_absolute_error: 0.0647 - val_mean_squared_error: 0.0072\n",
      "Epoch 196/240\n",
      "167/167 [==============================] - 0s 117us/step - loss: 0.0050 - mean_absolute_error: 0.0545 - mean_squared_error: 0.0050 - val_loss: 0.0072 - val_mean_absolute_error: 0.0645 - val_mean_squared_error: 0.0072\n",
      "Epoch 197/240\n",
      "167/167 [==============================] - 0s 61us/step - loss: 0.0051 - mean_absolute_error: 0.0556 - mean_squared_error: 0.0051 - val_loss: 0.0072 - val_mean_absolute_error: 0.0645 - val_mean_squared_error: 0.0072\n",
      "Epoch 198/240\n",
      "167/167 [==============================] - 0s 152us/step - loss: 0.0051 - mean_absolute_error: 0.0554 - mean_squared_error: 0.0051 - val_loss: 0.0071 - val_mean_absolute_error: 0.0644 - val_mean_squared_error: 0.0071\n",
      "Epoch 199/240\n",
      "167/167 [==============================] - 0s 87us/step - loss: 0.0050 - mean_absolute_error: 0.0544 - mean_squared_error: 0.0050 - val_loss: 0.0071 - val_mean_absolute_error: 0.0640 - val_mean_squared_error: 0.0071\n",
      "Epoch 200/240\n",
      "167/167 [==============================] - 0s 67us/step - loss: 0.0050 - mean_absolute_error: 0.0547 - mean_squared_error: 0.0050 - val_loss: 0.0071 - val_mean_absolute_error: 0.0641 - val_mean_squared_error: 0.0071\n",
      "Epoch 201/240\n",
      "167/167 [==============================] - 0s 67us/step - loss: 0.0050 - mean_absolute_error: 0.0551 - mean_squared_error: 0.0050 - val_loss: 0.0072 - val_mean_absolute_error: 0.0644 - val_mean_squared_error: 0.0072\n",
      "Epoch 202/240\n",
      "167/167 [==============================] - 0s 55us/step - loss: 0.0050 - mean_absolute_error: 0.0547 - mean_squared_error: 0.0050 - val_loss: 0.0072 - val_mean_absolute_error: 0.0646 - val_mean_squared_error: 0.0072\n",
      "Epoch 203/240\n",
      "167/167 [==============================] - 0s 288us/step - loss: 0.0050 - mean_absolute_error: 0.0543 - mean_squared_error: 0.0050 - val_loss: 0.0071 - val_mean_absolute_error: 0.0639 - val_mean_squared_error: 0.0071\n",
      "Epoch 204/240\n",
      "167/167 [==============================] - 0s 64us/step - loss: 0.0049 - mean_absolute_error: 0.0540 - mean_squared_error: 0.0049 - val_loss: 0.0072 - val_mean_absolute_error: 0.0642 - val_mean_squared_error: 0.0072\n",
      "Epoch 205/240\n",
      "167/167 [==============================] - 0s 68us/step - loss: 0.0049 - mean_absolute_error: 0.0542 - mean_squared_error: 0.0049 - val_loss: 0.0072 - val_mean_absolute_error: 0.0646 - val_mean_squared_error: 0.0072\n",
      "Epoch 206/240\n",
      "167/167 [==============================] - 0s 50us/step - loss: 0.0049 - mean_absolute_error: 0.0541 - mean_squared_error: 0.0049 - val_loss: 0.0072 - val_mean_absolute_error: 0.0643 - val_mean_squared_error: 0.0072\n",
      "Epoch 207/240\n",
      "167/167 [==============================] - 0s 62us/step - loss: 0.0049 - mean_absolute_error: 0.0540 - mean_squared_error: 0.0049 - val_loss: 0.0071 - val_mean_absolute_error: 0.0642 - val_mean_squared_error: 0.0071\n",
      "Epoch 208/240\n",
      "167/167 [==============================] - 0s 238us/step - loss: 0.0049 - mean_absolute_error: 0.0542 - mean_squared_error: 0.0049 - val_loss: 0.0071 - val_mean_absolute_error: 0.0641 - val_mean_squared_error: 0.0071\n",
      "Epoch 209/240\n",
      "167/167 [==============================] - 0s 58us/step - loss: 0.0049 - mean_absolute_error: 0.0543 - mean_squared_error: 0.0049 - val_loss: 0.0071 - val_mean_absolute_error: 0.0641 - val_mean_squared_error: 0.0071\n",
      "Epoch 210/240\n",
      "167/167 [==============================] - 0s 62us/step - loss: 0.0049 - mean_absolute_error: 0.0541 - mean_squared_error: 0.0049 - val_loss: 0.0072 - val_mean_absolute_error: 0.0646 - val_mean_squared_error: 0.0072\n",
      "Epoch 211/240\n",
      "167/167 [==============================] - 0s 53us/step - loss: 0.0049 - mean_absolute_error: 0.0537 - mean_squared_error: 0.0049 - val_loss: 0.0072 - val_mean_absolute_error: 0.0641 - val_mean_squared_error: 0.0072\n",
      "Epoch 212/240\n",
      "167/167 [==============================] - ETA: 0s - loss: 0.0054 - mean_absolute_error: 0.0550 - mean_squared_error: 0.00 - 0s 68us/step - loss: 0.0049 - mean_absolute_error: 0.0539 - mean_squared_error: 0.0049 - val_loss: 0.0072 - val_mean_absolute_error: 0.0641 - val_mean_squared_error: 0.0072\n",
      "Epoch 213/240\n",
      "167/167 [==============================] - 0s 96us/step - loss: 0.0049 - mean_absolute_error: 0.0542 - mean_squared_error: 0.0049 - val_loss: 0.0072 - val_mean_absolute_error: 0.0638 - val_mean_squared_error: 0.0072\n",
      "Epoch 214/240\n",
      "167/167 [==============================] - 0s 61us/step - loss: 0.0049 - mean_absolute_error: 0.0539 - mean_squared_error: 0.0049 - val_loss: 0.0071 - val_mean_absolute_error: 0.0638 - val_mean_squared_error: 0.0071\n",
      "Epoch 215/240\n",
      "167/167 [==============================] - 0s 81us/step - loss: 0.0050 - mean_absolute_error: 0.0540 - mean_squared_error: 0.0050 - val_loss: 0.0073 - val_mean_absolute_error: 0.0648 - val_mean_squared_error: 0.0073\n",
      "Epoch 216/240\n",
      "167/167 [==============================] - 0s 67us/step - loss: 0.0048 - mean_absolute_error: 0.0533 - mean_squared_error: 0.0048 - val_loss: 0.0072 - val_mean_absolute_error: 0.0642 - val_mean_squared_error: 0.0072\n",
      "Epoch 217/240\n",
      "167/167 [==============================] - 0s 281us/step - loss: 0.0051 - mean_absolute_error: 0.0559 - mean_squared_error: 0.0051 - val_loss: 0.0073 - val_mean_absolute_error: 0.0653 - val_mean_squared_error: 0.0073\n",
      "Epoch 218/240\n",
      "167/167 [==============================] - 0s 90us/step - loss: 0.0049 - mean_absolute_error: 0.0539 - mean_squared_error: 0.0049 - val_loss: 0.0073 - val_mean_absolute_error: 0.0652 - val_mean_squared_error: 0.0073\n",
      "Epoch 219/240\n",
      "167/167 [==============================] - 0s 71us/step - loss: 0.0050 - mean_absolute_error: 0.0541 - mean_squared_error: 0.0050 - val_loss: 0.0073 - val_mean_absolute_error: 0.0650 - val_mean_squared_error: 0.0073\n",
      "Epoch 220/240\n",
      "167/167 [==============================] - 0s 93us/step - loss: 0.0048 - mean_absolute_error: 0.0527 - mean_squared_error: 0.0048 - val_loss: 0.0071 - val_mean_absolute_error: 0.0637 - val_mean_squared_error: 0.0071\n",
      "Epoch 221/240\n",
      "167/167 [==============================] - 0s 278us/step - loss: 0.0049 - mean_absolute_error: 0.0541 - mean_squared_error: 0.0049 - val_loss: 0.0071 - val_mean_absolute_error: 0.0635 - val_mean_squared_error: 0.0071\n",
      "Epoch 222/240\n",
      "167/167 [==============================] - 0s 90us/step - loss: 0.0048 - mean_absolute_error: 0.0537 - mean_squared_error: 0.0048 - val_loss: 0.0072 - val_mean_absolute_error: 0.0639 - val_mean_squared_error: 0.0072\n",
      "Epoch 223/240\n",
      "167/167 [==============================] - 0s 60us/step - loss: 0.0048 - mean_absolute_error: 0.0535 - mean_squared_error: 0.0048 - val_loss: 0.0072 - val_mean_absolute_error: 0.0644 - val_mean_squared_error: 0.0072\n",
      "Epoch 224/240\n",
      "167/167 [==============================] - 0s 55us/step - loss: 0.0048 - mean_absolute_error: 0.0537 - mean_squared_error: 0.0048 - val_loss: 0.0071 - val_mean_absolute_error: 0.0637 - val_mean_squared_error: 0.0071\n",
      "Epoch 225/240\n",
      "167/167 [==============================] - 0s 253us/step - loss: 0.0048 - mean_absolute_error: 0.0533 - mean_squared_error: 0.0048 - val_loss: 0.0071 - val_mean_absolute_error: 0.0636 - val_mean_squared_error: 0.0071\n",
      "Epoch 226/240\n",
      "167/167 [==============================] - 0s 74us/step - loss: 0.0047 - mean_absolute_error: 0.0528 - mean_squared_error: 0.0047 - val_loss: 0.0071 - val_mean_absolute_error: 0.0639 - val_mean_squared_error: 0.0071\n",
      "Epoch 227/240\n",
      "167/167 [==============================] - 0s 73us/step - loss: 0.0047 - mean_absolute_error: 0.0531 - mean_squared_error: 0.0047 - val_loss: 0.0071 - val_mean_absolute_error: 0.0641 - val_mean_squared_error: 0.0071\n",
      "Epoch 228/240\n",
      "167/167 [==============================] - 0s 62us/step - loss: 0.0048 - mean_absolute_error: 0.0539 - mean_squared_error: 0.0048 - val_loss: 0.0071 - val_mean_absolute_error: 0.0640 - val_mean_squared_error: 0.0071\n",
      "Epoch 229/240\n",
      "167/167 [==============================] - 0s 66us/step - loss: 0.0048 - mean_absolute_error: 0.0535 - mean_squared_error: 0.0048 - val_loss: 0.0072 - val_mean_absolute_error: 0.0647 - val_mean_squared_error: 0.0072\n",
      "Epoch 230/240\n",
      "167/167 [==============================] - 0s 234us/step - loss: 0.0048 - mean_absolute_error: 0.0529 - mean_squared_error: 0.0048 - val_loss: 0.0070 - val_mean_absolute_error: 0.0634 - val_mean_squared_error: 0.0070\n",
      "Epoch 231/240\n",
      "167/167 [==============================] - 0s 69us/step - loss: 0.0047 - mean_absolute_error: 0.0533 - mean_squared_error: 0.0047 - val_loss: 0.0070 - val_mean_absolute_error: 0.0628 - val_mean_squared_error: 0.0070\n",
      "Epoch 232/240\n",
      "167/167 [==============================] - 0s 69us/step - loss: 0.0047 - mean_absolute_error: 0.0530 - mean_squared_error: 0.0047 - val_loss: 0.0071 - val_mean_absolute_error: 0.0635 - val_mean_squared_error: 0.0071\n",
      "Epoch 233/240\n",
      "167/167 [==============================] - 0s 55us/step - loss: 0.0047 - mean_absolute_error: 0.0528 - mean_squared_error: 0.0047 - val_loss: 0.0071 - val_mean_absolute_error: 0.0641 - val_mean_squared_error: 0.0071\n",
      "Epoch 234/240\n",
      "167/167 [==============================] - 0s 52us/step - loss: 0.0047 - mean_absolute_error: 0.0528 - mean_squared_error: 0.0047 - val_loss: 0.0070 - val_mean_absolute_error: 0.0633 - val_mean_squared_error: 0.0070\n",
      "Epoch 235/240\n",
      "167/167 [==============================] - 0s 258us/step - loss: 0.0047 - mean_absolute_error: 0.0532 - mean_squared_error: 0.0047 - val_loss: 0.0070 - val_mean_absolute_error: 0.0634 - val_mean_squared_error: 0.0070\n",
      "Epoch 236/240\n",
      "167/167 [==============================] - 0s 64us/step - loss: 0.0047 - mean_absolute_error: 0.0525 - mean_squared_error: 0.0047 - val_loss: 0.0072 - val_mean_absolute_error: 0.0643 - val_mean_squared_error: 0.0072\n",
      "Epoch 237/240\n",
      "167/167 [==============================] - 0s 65us/step - loss: 0.0047 - mean_absolute_error: 0.0522 - mean_squared_error: 0.0047 - val_loss: 0.0072 - val_mean_absolute_error: 0.0632 - val_mean_squared_error: 0.0072\n",
      "Epoch 238/240\n",
      "167/167 [==============================] - 0s 48us/step - loss: 0.0046 - mean_absolute_error: 0.0523 - mean_squared_error: 0.0046 - val_loss: 0.0071 - val_mean_absolute_error: 0.0631 - val_mean_squared_error: 0.0071\n",
      "Epoch 239/240\n",
      "167/167 [==============================] - 0s 51us/step - loss: 0.0047 - mean_absolute_error: 0.0526 - mean_squared_error: 0.0047 - val_loss: 0.0071 - val_mean_absolute_error: 0.0632 - val_mean_squared_error: 0.0071\n",
      "Epoch 240/240\n",
      "167/167 [==============================] - 0s 294us/step - loss: 0.0046 - mean_absolute_error: 0.0521 - mean_squared_error: 0.0046 - val_loss: 0.0072 - val_mean_absolute_error: 0.0639 - val_mean_squared_error: 0.0072\n"
     ]
    }
   ],
   "source": [
    "# Обучение нейронной сети.\n",
    "# На вход передаем обучающие и тестовые выборки, количество эпох и размер батча.\n",
    "# На выходе получаем объект с историей обучения, который далее будем анализировать.\n",
    "history = model.fit(X_train, Y_train, validation_data = (X_test,Y_test), epochs=epochs_number, batch_size=batch_size)"
   ]
  },
  {
   "cell_type": "code",
   "execution_count": 13,
   "metadata": {},
   "outputs": [
    {
     "data": {
      "image/png": "[encoded data removed]",
      "text/plain": [
       "<Figure size 432x288 with 1 Axes>"
      ]
     },
     "metadata": {
      "needs_background": "light"
     },
     "output_type": "display_data"
    }
   ],
   "source": [
    "# Выводим динамику среднего абсолютного отклонения от номера эпохи обучения.\n",
    "plt.plot(history.history['mean_absolute_error'])\n",
    "plt.plot(history.history['val_mean_absolute_error']) \n",
    "plt.title('Model MAE') \n",
    "plt.ylabel('MAE') \n",
    "plt.xlabel('Epoch') \n",
    "plt.legend(['Train', 'Test'], loc='upper right') \n",
    "plt.show()"
   ]
  },
  {
   "cell_type": "code",
   "execution_count": 14,
   "metadata": {},
   "outputs": [
    {
     "data": {
      "image/png": "[encoded data removed]",
      "text/plain": [
       "<Figure size 432x288 with 1 Axes>"
      ]
     },
     "metadata": {
      "needs_background": "light"
     },
     "output_type": "display_data"
    }
   ],
   "source": [
    "# Выводим динамику среднеквадратического отклонения, т.е. значения функции потерь, от номера эпохи обучения.\n",
    "# Видно, что в процессе обучения сеть с каждой эпохой вычисляет всё более точные прогнозы значений Y.\n",
    "plt.plot(history.history['mean_squared_error'])\n",
    "plt.plot(history.history['val_mean_squared_error']) \n",
    "plt.title('Model MSE') \n",
    "plt.ylabel('MSE') \n",
    "plt.xlabel('Epoch') \n",
    "plt.legend(['Train', 'Test'], loc='upper right') \n",
    "plt.show()"
   ]
  },
  {
   "cell_type": "code",
   "execution_count": 15,
   "metadata": {},
   "outputs": [],
   "source": [
    "# Предсказание уже обученной нейронной сети на обучающей выборке:\n",
    "Y_pred_train = model.predict(X_train).flatten()"
   ]
  },
  {
   "cell_type": "code",
   "execution_count": 16,
   "metadata": {},
   "outputs": [
    {
     "data": {
      "image/png": "[encoded data removed]",
      "text/plain": [
       "<Figure size 432x288 with 1 Axes>"
      ]
     },
     "metadata": {
      "needs_background": "light"
     },
     "output_type": "display_data"
    }
   ],
   "source": [
    "# Сравним эталонные значения Y_train и результат работы обученной нейронной сети Y_pred_train для обучающей выборки.\n",
    "# В идеальной ситуации они должны совпадать, т.е. точки (Y_train[i], Y_pred_train[i]) должны лежать на прямой Y_train = Y_pred_train.\n",
    "plt.plot(Y_train, Y_pred_train, 'bo')\n",
    "plt.plot([0,1], [0,1], 'r-')\n",
    "plt.title('Test vs Pred_test') \n",
    "plt.ylabel('Pred_test') \n",
    "plt.xlabel('Test') \n",
    "plt.show()"
   ]
  },
  {
   "cell_type": "code",
   "execution_count": 17,
   "metadata": {},
   "outputs": [
    {
     "data": {
      "image/png": "[encoded data removed]",
      "text/plain": [
       "<Figure size 432x288 with 1 Axes>"
      ]
     },
     "metadata": {
      "needs_background": "light"
     },
     "output_type": "display_data"
    }
   ],
   "source": [
    "# Выведем сами значения Y_train и Y_pred_train.\n",
    "plt.plot(Y_train)\n",
    "plt.plot(Y_pred_train)\n",
    "plt.show()"
   ]
  },
  {
   "cell_type": "code",
   "execution_count": 18,
   "metadata": {},
   "outputs": [],
   "source": [
    "# Таким образом, обучение по обучающей выборке проведено.\n",
    "# Теперь проверим работу нейроной сети на тестовой выборке.\n",
    "\n",
    "# Предсказание обученной нейронной сети на тестовой выборке:\n",
    "Y_pred_test = model.predict(X_test).flatten()"
   ]
  },
  {
   "cell_type": "code",
   "execution_count": 19,
   "metadata": {
    "scrolled": true
   },
   "outputs": [
    {
     "data": {
      "image/png": "[encoded data removed]",
      "text/plain": [
       "<Figure size 432x288 with 1 Axes>"
      ]
     },
     "metadata": {
      "needs_background": "light"
     },
     "output_type": "display_data"
    }
   ],
   "source": [
    "# Сравним эталонные значения Y_test и результат работы обученной нейронной сети Y_pred_test для тестовой выборки.\n",
    "plt.plot(Y_test, Y_pred_test, 'bo')\n",
    "plt.plot([0,1], [0,1], 'r-')\n",
    "plt.title('Test vs Pred_test') \n",
    "plt.ylabel('Pred_test') \n",
    "plt.xlabel('Test') \n",
    "plt.show()"
   ]
  },
  {
   "cell_type": "code",
   "execution_count": 20,
   "metadata": {
    "scrolled": false
   },
   "outputs": [
    {
     "data": {
      "image/png": "[encoded data removed]",
      "text/plain": [
       "<Figure size 432x288 with 1 Axes>"
      ]
     },
     "metadata": {
      "needs_background": "light"
     },
     "output_type": "display_data"
    }
   ],
   "source": [
    "# Выведем сами значения Y_test и Y_pred_test.\n",
    "plt.plot(Y_test)\n",
    "plt.plot(Y_pred_test)\n",
    "plt.show()"
   ]
  },
  {
   "cell_type": "code",
   "execution_count": 21,
   "metadata": {},
   "outputs": [
    {
     "name": "stdout",
     "output_type": "stream",
     "text": [
      "0.06814840859293204\n",
      "0.08461730852481142\n"
     ]
    }
   ],
   "source": [
    "# Итого, качество работы нейронной сети на тестовых данных ниже, чем на обучающих - это ожидаемо.\n",
    "# Тем не менее, нейронная сеть способна найти зависимости и предсказвать значение Y по X с приемлемым уровенм точности.\n",
    "\n",
    "# Сравним среднеквадратичные ошибки (значения функции потерь) для обучающей и тестовой выборок.\n",
    "print(numpy.sqrt(mean_squared_error(Y_train, Y_pred_train)))\n",
    "print(numpy.sqrt(mean_squared_error(Y_test, Y_pred_test)))"
   ]
  },
  {
   "cell_type": "code",
   "execution_count": 22,
   "metadata": {},
   "outputs": [
    {
     "name": "stdout",
     "output_type": "stream",
     "text": [
      "Train k = 0.9899897575378418, p = 0.2883974313735962\n",
      "Test k = 0.966010332107544, p = 0.2411031723022461\n"
     ]
    }
   ],
   "source": [
    "# Проверим на нормальное распределение разности пар (Y_train, Y_pred_train), (Y_test, Y_pred_test)\n",
    "# Для этого используем библиотеку scipy и метод stats.shapiro.\n",
    "k_train, p_train = stats.shapiro(Y_train - Y_pred_train)\n",
    "print('Train k = {0}, p = {1}'.format(k_train, p_train))\n",
    "\n",
    "k_test, p_test = stats.shapiro(Y_test - Y_pred_test)\n",
    "print('Test k = {0}, p = {1}'.format(k_test, p_test))"
   ]
  },
  {
   "cell_type": "code",
   "execution_count": 23,
   "metadata": {},
   "outputs": [
    {
     "name": "stdout",
     "output_type": "stream",
     "text": [
      "k_s = 0.987627387046814, p_s = 0.0665692463517189\n",
      "k_n = 6.857333579529169, p_n = 0.032430148169711195\n"
     ]
    }
   ],
   "source": [
    "# Для полной выборки (Y, Y_pred) применим два статистических теста: shapiro и normaltest.\n",
    "Y_pred = model.predict(X).flatten()\n",
    "\n",
    "k_s, p_s = stats.shapiro(Y - Y_pred)\n",
    "print('k_s = {0}, p_s = {1}'.format(k_s, p_s))\n",
    "\n",
    "k_n, p_n = stats.normaltest(Y - Y_pred)\n",
    "print('k_n = {0}, p_n = {1}'.format(k_n, p_n))"
   ]
  },
  {
   "cell_type": "code",
   "execution_count": 24,
   "metadata": {
    "scrolled": true
   },
   "outputs": [
    {
     "data": {
      "image/png": "[encoded data removed]",
      "text/plain": [
       "<Figure size 432x288 with 1 Axes>"
      ]
     },
     "metadata": {
      "needs_background": "light"
     },
     "output_type": "display_data"
    }
   ],
   "source": [
    "# И тоже самое визуально, с помощью грфиков квантиль-квантиль.\n",
    "# Обучающая выборка\n",
    "qqplot(Y_train - Y_pred_train)\n",
    "plt.show()"
   ]
  },
  {
   "cell_type": "code",
   "execution_count": 25,
   "metadata": {
    "scrolled": true
   },
   "outputs": [
    {
     "data": {
      "image/png": "[encoded data removed]",
      "text/plain": [
       "<Figure size 432x288 with 1 Axes>"
      ]
     },
     "metadata": {
      "needs_background": "light"
     },
     "output_type": "display_data"
    }
   ],
   "source": [
    "# Тестовая выборка\n",
    "qqplot(Y_test - Y_pred_test)\n",
    "plt.show()"
   ]
  },
  {
   "cell_type": "code",
   "execution_count": 26,
   "metadata": {
    "scrolled": true
   },
   "outputs": [
    {
     "data": {
      "image/png": "[encoded data removed]",
      "text/plain": [
       "<Figure size 432x288 with 1 Axes>"
      ]
     },
     "metadata": {
      "needs_background": "light"
     },
     "output_type": "display_data"
    }
   ],
   "source": [
    "# Полная выборка\n",
    "qqplot(Y - Y_pred)\n",
    "plt.show()"
   ]
  },
  {
   "cell_type": "code",
   "execution_count": 27,
   "metadata": {},
   "outputs": [
    {
     "data": {
      "image/png": "[encoded data removed]",
      "text/plain": [
       "<Figure size 432x288 with 1 Axes>"
      ]
     },
     "metadata": {
      "needs_background": "light"
     },
     "output_type": "display_data"
    }
   ],
   "source": [
    "# Можо также визульно убедиться, что распределения \"почти нормальное\".\n",
    "plt.hist(Y - Y_pred, bins=50)\n",
    "plt.show()"
   ]
  },
  {
   "cell_type": "code",
   "execution_count": 28,
   "metadata": {},
   "outputs": [],
   "source": [
    "# Сохраним обученную нейронную сеть, название файла можно выбрать любое, расширение - h5.\n",
    "model.save('SimpleNeuralNetwork.h5')"
   ]
  },
  {
   "cell_type": "code",
   "execution_count": null,
   "metadata": {},
   "outputs": [],
   "source": []
  }
 ],
 "metadata": {
  "kernelspec": {
   "display_name": "Python 3",
   "language": "python",
   "name": "python3"
  },
  "language_info": {
   "codemirror_mode": {
    "name": "ipython",
    "version": 3
   },
   "file_extension": ".py",
   "mimetype": "text/x-python",
   "name": "python",
   "nbconvert_exporter": "python",
   "pygments_lexer": "ipython3",
   "version": "3.7.6"
  }
 },
 "nbformat": 4,
 "nbformat_minor": 2
}
