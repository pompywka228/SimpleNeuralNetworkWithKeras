{
 "cells": [
  {
   "cell_type": "code",
   "execution_count": 4,
   "metadata": {
    "scrolled": false
   },
   "outputs": [],
   "source": [
    "# Загрузка зависимостей\n",
    "import numpy\n",
    "import pandas\n",
    "import matplotlib.pyplot as plt\n",
    "import keras\n",
    "from keras.models import Sequential\n",
    "from keras.layers import Dense\n",
    "from sklearn.preprocessing import StandardScaler\n",
    "from sklearn.preprocessing import MinMaxScaler\n",
    "from sklearn.model_selection import train_test_split\n",
    "from sklearn.metrics import mean_squared_error\n",
    "from scipy import stats\n",
    "from statsmodels.graphics.gofplots import qqplot"
   ]
  },
  {
   "cell_type": "code",
   "execution_count": 5,
   "metadata": {
    "scrolled": true
   },
   "outputs": [
    {
     "data": {
      "text/html": [
       "<div>\n",
       "<style scoped>\n",
       "    .dataframe tbody tr th:only-of-type {\n",
       "        vertical-align: middle;\n",
       "    }\n",
       "\n",
       "    .dataframe tbody tr th {\n",
       "        vertical-align: top;\n",
       "    }\n",
       "\n",
       "    .dataframe thead th {\n",
       "        text-align: right;\n",
       "    }\n",
       "</style>\n",
       "<table border=\"1\" class=\"dataframe\">\n",
       "  <thead>\n",
       "    <tr style=\"text-align: right;\">\n",
       "      <th></th>\n",
       "      <th>Unnamed: 0</th>\n",
       "      <th>price</th>\n",
       "      <th>totsp</th>\n",
       "      <th>livesp</th>\n",
       "      <th>kitsp</th>\n",
       "      <th>dist</th>\n",
       "      <th>metrdist</th>\n",
       "      <th>walk</th>\n",
       "      <th>brick</th>\n",
       "      <th>floor</th>\n",
       "      <th>1</th>\n",
       "      <th>2</th>\n",
       "      <th>3</th>\n",
       "      <th>4</th>\n",
       "      <th>5</th>\n",
       "      <th>6</th>\n",
       "      <th>7</th>\n",
       "      <th>8</th>\n",
       "    </tr>\n",
       "  </thead>\n",
       "  <tbody>\n",
       "    <tr>\n",
       "      <th>0</th>\n",
       "      <td>0</td>\n",
       "      <td>0.209515</td>\n",
       "      <td>0.305476</td>\n",
       "      <td>0.05</td>\n",
       "      <td>0.05</td>\n",
       "      <td>0.678571</td>\n",
       "      <td>0.572837</td>\n",
       "      <td>1</td>\n",
       "      <td>1</td>\n",
       "      <td>1</td>\n",
       "      <td>0</td>\n",
       "      <td>0</td>\n",
       "      <td>1</td>\n",
       "      <td>0</td>\n",
       "      <td>0</td>\n",
       "      <td>0</td>\n",
       "      <td>0</td>\n",
       "      <td>0</td>\n",
       "    </tr>\n",
       "    <tr>\n",
       "      <th>1</th>\n",
       "      <td>1</td>\n",
       "      <td>0.176091</td>\n",
       "      <td>0.000000</td>\n",
       "      <td>0.05</td>\n",
       "      <td>0.05</td>\n",
       "      <td>0.750000</td>\n",
       "      <td>0.572837</td>\n",
       "      <td>1</td>\n",
       "      <td>0</td>\n",
       "      <td>1</td>\n",
       "      <td>0</td>\n",
       "      <td>0</td>\n",
       "      <td>0</td>\n",
       "      <td>0</td>\n",
       "      <td>0</td>\n",
       "      <td>1</td>\n",
       "      <td>0</td>\n",
       "      <td>0</td>\n",
       "    </tr>\n",
       "    <tr>\n",
       "      <th>2</th>\n",
       "      <td>2</td>\n",
       "      <td>0.408240</td>\n",
       "      <td>0.347262</td>\n",
       "      <td>0.05</td>\n",
       "      <td>0.05</td>\n",
       "      <td>0.821429</td>\n",
       "      <td>0.254805</td>\n",
       "      <td>1</td>\n",
       "      <td>1</td>\n",
       "      <td>1</td>\n",
       "      <td>0</td>\n",
       "      <td>0</td>\n",
       "      <td>1</td>\n",
       "      <td>0</td>\n",
       "      <td>0</td>\n",
       "      <td>0</td>\n",
       "      <td>0</td>\n",
       "      <td>0</td>\n",
       "    </tr>\n",
       "    <tr>\n",
       "      <th>3</th>\n",
       "      <td>3</td>\n",
       "      <td>0.278754</td>\n",
       "      <td>0.238705</td>\n",
       "      <td>0.05</td>\n",
       "      <td>0.05</td>\n",
       "      <td>0.750000</td>\n",
       "      <td>0.572837</td>\n",
       "      <td>1</td>\n",
       "      <td>0</td>\n",
       "      <td>1</td>\n",
       "      <td>1</td>\n",
       "      <td>0</td>\n",
       "      <td>0</td>\n",
       "      <td>0</td>\n",
       "      <td>0</td>\n",
       "      <td>0</td>\n",
       "      <td>0</td>\n",
       "      <td>0</td>\n",
       "    </tr>\n",
       "    <tr>\n",
       "      <th>4</th>\n",
       "      <td>4</td>\n",
       "      <td>0.819544</td>\n",
       "      <td>0.652738</td>\n",
       "      <td>0.30</td>\n",
       "      <td>0.30</td>\n",
       "      <td>0.535714</td>\n",
       "      <td>0.572837</td>\n",
       "      <td>0</td>\n",
       "      <td>1</td>\n",
       "      <td>1</td>\n",
       "      <td>0</td>\n",
       "      <td>0</td>\n",
       "      <td>1</td>\n",
       "      <td>0</td>\n",
       "      <td>0</td>\n",
       "      <td>0</td>\n",
       "      <td>0</td>\n",
       "      <td>0</td>\n",
       "    </tr>\n",
       "    <tr>\n",
       "      <th>5</th>\n",
       "      <td>5</td>\n",
       "      <td>0.437751</td>\n",
       "      <td>0.496588</td>\n",
       "      <td>0.20</td>\n",
       "      <td>0.20</td>\n",
       "      <td>0.571429</td>\n",
       "      <td>0.572837</td>\n",
       "      <td>1</td>\n",
       "      <td>1</td>\n",
       "      <td>1</td>\n",
       "      <td>0</td>\n",
       "      <td>0</td>\n",
       "      <td>0</td>\n",
       "      <td>0</td>\n",
       "      <td>0</td>\n",
       "      <td>0</td>\n",
       "      <td>0</td>\n",
       "      <td>1</td>\n",
       "    </tr>\n",
       "    <tr>\n",
       "      <th>6</th>\n",
       "      <td>6</td>\n",
       "      <td>0.292256</td>\n",
       "      <td>0.283792</td>\n",
       "      <td>0.05</td>\n",
       "      <td>0.05</td>\n",
       "      <td>0.321429</td>\n",
       "      <td>0.752625</td>\n",
       "      <td>0</td>\n",
       "      <td>0</td>\n",
       "      <td>1</td>\n",
       "      <td>0</td>\n",
       "      <td>0</td>\n",
       "      <td>0</td>\n",
       "      <td>0</td>\n",
       "      <td>0</td>\n",
       "      <td>0</td>\n",
       "      <td>0</td>\n",
       "      <td>1</td>\n",
       "    </tr>\n",
       "    <tr>\n",
       "      <th>7</th>\n",
       "      <td>7</td>\n",
       "      <td>0.245513</td>\n",
       "      <td>0.215239</td>\n",
       "      <td>0.05</td>\n",
       "      <td>0.05</td>\n",
       "      <td>0.428571</td>\n",
       "      <td>0.430238</td>\n",
       "      <td>1</td>\n",
       "      <td>1</td>\n",
       "      <td>0</td>\n",
       "      <td>0</td>\n",
       "      <td>0</td>\n",
       "      <td>0</td>\n",
       "      <td>1</td>\n",
       "      <td>0</td>\n",
       "      <td>0</td>\n",
       "      <td>0</td>\n",
       "      <td>0</td>\n",
       "    </tr>\n",
       "    <tr>\n",
       "      <th>8</th>\n",
       "      <td>8</td>\n",
       "      <td>0.653213</td>\n",
       "      <td>0.593649</td>\n",
       "      <td>0.20</td>\n",
       "      <td>0.20</td>\n",
       "      <td>0.428571</td>\n",
       "      <td>0.430238</td>\n",
       "      <td>1</td>\n",
       "      <td>1</td>\n",
       "      <td>1</td>\n",
       "      <td>0</td>\n",
       "      <td>0</td>\n",
       "      <td>1</td>\n",
       "      <td>0</td>\n",
       "      <td>0</td>\n",
       "      <td>0</td>\n",
       "      <td>0</td>\n",
       "      <td>0</td>\n",
       "    </tr>\n",
       "    <tr>\n",
       "      <th>9</th>\n",
       "      <td>9</td>\n",
       "      <td>0.447158</td>\n",
       "      <td>0.513548</td>\n",
       "      <td>0.25</td>\n",
       "      <td>0.25</td>\n",
       "      <td>0.692857</td>\n",
       "      <td>0.752625</td>\n",
       "      <td>1</td>\n",
       "      <td>0</td>\n",
       "      <td>1</td>\n",
       "      <td>0</td>\n",
       "      <td>0</td>\n",
       "      <td>0</td>\n",
       "      <td>0</td>\n",
       "      <td>1</td>\n",
       "      <td>0</td>\n",
       "      <td>0</td>\n",
       "      <td>0</td>\n",
       "    </tr>\n",
       "  </tbody>\n",
       "</table>\n",
       "</div>"
      ],
      "text/plain": [
       "   Unnamed: 0     price     totsp  livesp  kitsp      dist  metrdist  walk  \\\n",
       "0           0  0.209515  0.305476    0.05   0.05  0.678571  0.572837     1   \n",
       "1           1  0.176091  0.000000    0.05   0.05  0.750000  0.572837     1   \n",
       "2           2  0.408240  0.347262    0.05   0.05  0.821429  0.254805     1   \n",
       "3           3  0.278754  0.238705    0.05   0.05  0.750000  0.572837     1   \n",
       "4           4  0.819544  0.652738    0.30   0.30  0.535714  0.572837     0   \n",
       "5           5  0.437751  0.496588    0.20   0.20  0.571429  0.572837     1   \n",
       "6           6  0.292256  0.283792    0.05   0.05  0.321429  0.752625     0   \n",
       "7           7  0.245513  0.215239    0.05   0.05  0.428571  0.430238     1   \n",
       "8           8  0.653213  0.593649    0.20   0.20  0.428571  0.430238     1   \n",
       "9           9  0.447158  0.513548    0.25   0.25  0.692857  0.752625     1   \n",
       "\n",
       "   brick  floor  1  2  3  4  5  6  7  8  \n",
       "0      1      1  0  0  1  0  0  0  0  0  \n",
       "1      0      1  0  0  0  0  0  1  0  0  \n",
       "2      1      1  0  0  1  0  0  0  0  0  \n",
       "3      0      1  1  0  0  0  0  0  0  0  \n",
       "4      1      1  0  0  1  0  0  0  0  0  \n",
       "5      1      1  0  0  0  0  0  0  0  1  \n",
       "6      0      1  0  0  0  0  0  0  0  1  \n",
       "7      1      0  0  0  0  1  0  0  0  0  \n",
       "8      1      1  0  0  1  0  0  0  0  0  \n",
       "9      0      1  0  0  0  0  1  0  0  0  "
      ]
     },
     "execution_count": 5,
     "metadata": {},
     "output_type": "execute_result"
    }
   ],
   "source": [
    "# Загрузка подготовленного набора данных\n",
    "dataset = pandas.read_csv('prepared_data.csv') \n",
    "dataset.head(10) # Вывод первых 10 строк"
   ]
  },
  {
   "cell_type": "code",
   "execution_count": 10,
   "metadata": {},
   "outputs": [
    {
     "data": {
      "text/html": [
       "<div>\n",
       "<style scoped>\n",
       "    .dataframe tbody tr th:only-of-type {\n",
       "        vertical-align: middle;\n",
       "    }\n",
       "\n",
       "    .dataframe tbody tr th {\n",
       "        vertical-align: top;\n",
       "    }\n",
       "\n",
       "    .dataframe thead th {\n",
       "        text-align: right;\n",
       "    }\n",
       "</style>\n",
       "<table border=\"1\" class=\"dataframe\">\n",
       "  <thead>\n",
       "    <tr style=\"text-align: right;\">\n",
       "      <th></th>\n",
       "      <th>price</th>\n",
       "      <th>totsp</th>\n",
       "      <th>livesp</th>\n",
       "      <th>kitsp</th>\n",
       "      <th>dist</th>\n",
       "      <th>metrdist</th>\n",
       "    </tr>\n",
       "  </thead>\n",
       "  <tbody>\n",
       "    <tr>\n",
       "      <th>0</th>\n",
       "      <td>0.209515</td>\n",
       "      <td>0.305476</td>\n",
       "      <td>0.05</td>\n",
       "      <td>0.05</td>\n",
       "      <td>0.678571</td>\n",
       "      <td>0.572837</td>\n",
       "    </tr>\n",
       "    <tr>\n",
       "      <th>1</th>\n",
       "      <td>0.176091</td>\n",
       "      <td>0.000000</td>\n",
       "      <td>0.05</td>\n",
       "      <td>0.05</td>\n",
       "      <td>0.750000</td>\n",
       "      <td>0.572837</td>\n",
       "    </tr>\n",
       "    <tr>\n",
       "      <th>2</th>\n",
       "      <td>0.408240</td>\n",
       "      <td>0.347262</td>\n",
       "      <td>0.05</td>\n",
       "      <td>0.05</td>\n",
       "      <td>0.821429</td>\n",
       "      <td>0.254805</td>\n",
       "    </tr>\n",
       "    <tr>\n",
       "      <th>3</th>\n",
       "      <td>0.278754</td>\n",
       "      <td>0.238705</td>\n",
       "      <td>0.05</td>\n",
       "      <td>0.05</td>\n",
       "      <td>0.750000</td>\n",
       "      <td>0.572837</td>\n",
       "    </tr>\n",
       "    <tr>\n",
       "      <th>4</th>\n",
       "      <td>0.819544</td>\n",
       "      <td>0.652738</td>\n",
       "      <td>0.30</td>\n",
       "      <td>0.30</td>\n",
       "      <td>0.535714</td>\n",
       "      <td>0.572837</td>\n",
       "    </tr>\n",
       "    <tr>\n",
       "      <th>5</th>\n",
       "      <td>0.437751</td>\n",
       "      <td>0.496588</td>\n",
       "      <td>0.20</td>\n",
       "      <td>0.20</td>\n",
       "      <td>0.571429</td>\n",
       "      <td>0.572837</td>\n",
       "    </tr>\n",
       "    <tr>\n",
       "      <th>6</th>\n",
       "      <td>0.292256</td>\n",
       "      <td>0.283792</td>\n",
       "      <td>0.05</td>\n",
       "      <td>0.05</td>\n",
       "      <td>0.321429</td>\n",
       "      <td>0.752625</td>\n",
       "    </tr>\n",
       "    <tr>\n",
       "      <th>7</th>\n",
       "      <td>0.245513</td>\n",
       "      <td>0.215239</td>\n",
       "      <td>0.05</td>\n",
       "      <td>0.05</td>\n",
       "      <td>0.428571</td>\n",
       "      <td>0.430238</td>\n",
       "    </tr>\n",
       "    <tr>\n",
       "      <th>8</th>\n",
       "      <td>0.653213</td>\n",
       "      <td>0.593649</td>\n",
       "      <td>0.20</td>\n",
       "      <td>0.20</td>\n",
       "      <td>0.428571</td>\n",
       "      <td>0.430238</td>\n",
       "    </tr>\n",
       "    <tr>\n",
       "      <th>9</th>\n",
       "      <td>0.447158</td>\n",
       "      <td>0.513548</td>\n",
       "      <td>0.25</td>\n",
       "      <td>0.25</td>\n",
       "      <td>0.692857</td>\n",
       "      <td>0.752625</td>\n",
       "    </tr>\n",
       "  </tbody>\n",
       "</table>\n",
       "</div>"
      ],
      "text/plain": [
       "      price     totsp  livesp  kitsp      dist  metrdist\n",
       "0  0.209515  0.305476    0.05   0.05  0.678571  0.572837\n",
       "1  0.176091  0.000000    0.05   0.05  0.750000  0.572837\n",
       "2  0.408240  0.347262    0.05   0.05  0.821429  0.254805\n",
       "3  0.278754  0.238705    0.05   0.05  0.750000  0.572837\n",
       "4  0.819544  0.652738    0.30   0.30  0.535714  0.572837\n",
       "5  0.437751  0.496588    0.20   0.20  0.571429  0.572837\n",
       "6  0.292256  0.283792    0.05   0.05  0.321429  0.752625\n",
       "7  0.245513  0.215239    0.05   0.05  0.428571  0.430238\n",
       "8  0.653213  0.593649    0.20   0.20  0.428571  0.430238\n",
       "9  0.447158  0.513548    0.25   0.25  0.692857  0.752625"
      ]
     },
     "execution_count": 10,
     "metadata": {},
     "output_type": "execute_result"
    }
   ],
   "source": [
    "Xx = dataset.iloc[:, [*range(1,7)]]\n",
    "Xx.head(10)"
   ]
  },
  {
   "cell_type": "code",
   "execution_count": 11,
   "metadata": {},
   "outputs": [],
   "source": [
    "# Выделение входных и выходных параметров:\n",
    "# Выходной параметр - значение столбца обработанного набора данных, соответсвующее столбцу №8 из первоначального набора данных (machine.data.csv).\n",
    "# Входные параметры - все остальные столбцы обработанного набора данных.\n",
    "# Используем .values, чтобы индексы не попали в новые переменные и в дальнейшем не мешали нам, например, при построении графиков.\n",
    "X = dataset.iloc[:, [*range(1,7)]].values\n",
    "Y = dataset['price'].values\n",
    "\n",
    "# Обратите внимание на структуру вашего обработанного файлы и измените индексы, если нужно."
   ]
  },
  {
   "cell_type": "code",
   "execution_count": 12,
   "metadata": {},
   "outputs": [],
   "source": [
    "# Разделение данных на обучающую и тестовую выборки:\n",
    "# Используем метод train_test_split библиотеки sklearn.\n",
    "# Он разделяет заданные массивы входных и выходных параметров на две части каждый.\n",
    "# Значение test_size определяет долю тестовой выборки в исходных данных.\n",
    "X_train, X_test, Y_train, Y_test = train_test_split(X, Y, test_size = 0.2)"
   ]
  },
  {
   "cell_type": "code",
   "execution_count": 77,
   "metadata": {},
   "outputs": [],
   "source": [
    "# Задаем параметры структуры нейронной сети.\n",
    "\n",
    "# Количество нейронов во входном слое должно быть равно количеству входных параметров.\n",
    "input_layer_size = 6\n",
    "\n",
    "# Количество нейронов в каждом скрытом слое и количество таких слоёв могут быть выбраны произвольно.\n",
    "# Увеличение числа нейронов относительно предыдущего слоя позволяет лучше обрабатывать отдельные примеры.\n",
    "# Уменьшение числа нейронов относительно предыдущего слоя позволяет обощать информацию и выводить новые правила.\n",
    "# Увеличение числа слоёв помогает сети работать как более сложная функция.\n",
    "first_hidden_layer_size = 50\n",
    "second_hidden_layer_size = 50\n",
    "\n",
    "# Количество нейронов в выходном слое должно быть равно количеству выходных параметров.\n",
    "output_layer_size = 1\n",
    "# Параметры обучения нейронной сети: количество эпох и размер батча.\n",
    "epochs_number = 50\n",
    "batch_size = 25"
   ]
  },
  {
   "cell_type": "code",
   "execution_count": 78,
   "metadata": {
    "scrolled": false
   },
   "outputs": [],
   "source": [
    "# Создание нейронной сети прямого распространения, пока она пустая, т.е. не содержит слоёв и нейронов.\n",
    "model = Sequential()\n",
    "\n",
    "# Входной слой и первый скрытый слой, функция активации - ReLU\n",
    "model.add(Dense(first_hidden_layer_size, input_dim=input_layer_size, activation='relu'))\n",
    "\n",
    "# Второй скрытый слой, функция активации - ReLU\n",
    "model.add(Dense(second_hidden_layer_size, activation='relu'))\n",
    "\n",
    "# Выходной слой, функция активации - линейная, т.к. решается задача регрессии.\n",
    "model.add(Dense(output_layer_size, activation='linear'))"
   ]
  },
  {
   "cell_type": "code",
   "execution_count": 79,
   "metadata": {
    "scrolled": true
   },
   "outputs": [
    {
     "name": "stdout",
     "output_type": "stream",
     "text": [
      "Model: \"sequential_4\"\n",
      "_________________________________________________________________\n",
      "Layer (type)                 Output Shape              Param #   \n",
      "=================================================================\n",
      "dense_10 (Dense)             (None, 50)                350       \n",
      "_________________________________________________________________\n",
      "dense_11 (Dense)             (None, 50)                2550      \n",
      "_________________________________________________________________\n",
      "dense_12 (Dense)             (None, 1)                 51        \n",
      "=================================================================\n",
      "Total params: 2,951\n",
      "Trainable params: 2,951\n",
      "Non-trainable params: 0\n",
      "_________________________________________________________________\n"
     ]
    }
   ],
   "source": [
    "# Обзор нейронной сети, теперь в ней есть слои и нейроны.\n",
    "# Если внимательно посмотреть на количество параметров, т.е. связей между нейронами, то можно увидеть, что автоматически добавлены нейроны смещения.\n",
    "model.summary()"
   ]
  },
  {
   "cell_type": "code",
   "execution_count": 80,
   "metadata": {
    "scrolled": true
   },
   "outputs": [],
   "source": [
    "# Настройка нейронной сети.\n",
    "# Функция потерь (loss) - среднеквадратическая ошибка.\n",
    "# Оптимизатор (optimizer) - adam (в настоящий момент - это стандартный оптимизатор).\n",
    "# Указываем метрики средняя абсолютная ошибка (mean_absolute_error) и среднеквадратическая ошиба (mean_squared_error) для дальнейшего анализа.\n",
    "model.compile(loss='mean_squared_error', optimizer='adam', metrics=['mean_absolute_error', 'mean_squared_error'])"
   ]
  },
  {
   "cell_type": "code",
   "execution_count": 81,
   "metadata": {
    "scrolled": false
   },
   "outputs": [
    {
     "name": "stdout",
     "output_type": "stream",
     "text": [
      "Train on 1632 samples, validate on 408 samples\n",
      "Epoch 1/50\n",
      "1632/1632 [==============================] - 0s 234us/step - loss: 0.0424 - mean_absolute_error: 0.1320 - mean_squared_error: 0.0424 - val_loss: 0.0033 - val_mean_absolute_error: 0.0444 - val_mean_squared_error: 0.0033\n",
      "Epoch 2/50\n",
      "1632/1632 [==============================] - 0s 117us/step - loss: 0.0021 - mean_absolute_error: 0.0350 - mean_squared_error: 0.0021 - val_loss: 9.9383e-04 - val_mean_absolute_error: 0.0231 - val_mean_squared_error: 9.9383e-04\n",
      "Epoch 3/50\n",
      "1632/1632 [==============================] - 0s 120us/step - loss: 5.4059e-04 - mean_absolute_error: 0.0166 - mean_squared_error: 5.4059e-04 - val_loss: 1.8047e-04 - val_mean_absolute_error: 0.0093 - val_mean_squared_error: 1.8047e-04\n",
      "Epoch 4/50\n",
      "1632/1632 [==============================] - 0s 117us/step - loss: 1.1221e-04 - mean_absolute_error: 0.0072 - mean_squared_error: 1.1221e-04 - val_loss: 7.4761e-05 - val_mean_absolute_error: 0.0057 - val_mean_squared_error: 7.4761e-05\n",
      "Epoch 5/50\n",
      "1632/1632 [==============================] - 0s 110us/step - loss: 5.6883e-05 - mean_absolute_error: 0.0052 - mean_squared_error: 5.6883e-05 - val_loss: 5.5063e-05 - val_mean_absolute_error: 0.0049 - val_mean_squared_error: 5.5063e-05\n",
      "Epoch 6/50\n",
      "1632/1632 [==============================] - 0s 112us/step - loss: 4.5161e-05 - mean_absolute_error: 0.0046 - mean_squared_error: 4.5161e-05 - val_loss: 4.8802e-05 - val_mean_absolute_error: 0.0047 - val_mean_squared_error: 4.8802e-05\n",
      "Epoch 7/50\n",
      "1632/1632 [==============================] - 0s 106us/step - loss: 3.4900e-05 - mean_absolute_error: 0.0040 - mean_squared_error: 3.4900e-05 - val_loss: 3.4973e-05 - val_mean_absolute_error: 0.0037 - val_mean_squared_error: 3.4973e-05\n",
      "Epoch 8/50\n",
      "1632/1632 [==============================] - 0s 113us/step - loss: 2.8270e-05 - mean_absolute_error: 0.0036 - mean_squared_error: 2.8270e-05 - val_loss: 3.0147e-05 - val_mean_absolute_error: 0.0034 - val_mean_squared_error: 3.0147e-05\n",
      "Epoch 9/50\n",
      "1632/1632 [==============================] - 0s 107us/step - loss: 2.4612e-05 - mean_absolute_error: 0.0034 - mean_squared_error: 2.4612e-05 - val_loss: 2.8419e-05 - val_mean_absolute_error: 0.0036 - val_mean_squared_error: 2.8419e-05\n",
      "Epoch 10/50\n",
      "1632/1632 [==============================] - 0s 100us/step - loss: 2.4848e-05 - mean_absolute_error: 0.0035 - mean_squared_error: 2.4848e-05 - val_loss: 3.1347e-05 - val_mean_absolute_error: 0.0039 - val_mean_squared_error: 3.1347e-05\n",
      "Epoch 11/50\n",
      "1632/1632 [==============================] - 0s 112us/step - loss: 1.9782e-05 - mean_absolute_error: 0.0031 - mean_squared_error: 1.9782e-05 - val_loss: 2.3668e-05 - val_mean_absolute_error: 0.0033 - val_mean_squared_error: 2.3668e-05\n",
      "Epoch 12/50\n",
      "1632/1632 [==============================] - 0s 92us/step - loss: 1.8454e-05 - mean_absolute_error: 0.0029 - mean_squared_error: 1.8454e-05 - val_loss: 1.8926e-05 - val_mean_absolute_error: 0.0029 - val_mean_squared_error: 1.8926e-05\n",
      "Epoch 13/50\n",
      "1632/1632 [==============================] - 0s 108us/step - loss: 1.6323e-05 - mean_absolute_error: 0.0028 - mean_squared_error: 1.6323e-05 - val_loss: 1.7798e-05 - val_mean_absolute_error: 0.0027 - val_mean_squared_error: 1.7798e-05\n",
      "Epoch 14/50\n",
      "1632/1632 [==============================] - 0s 93us/step - loss: 1.6258e-05 - mean_absolute_error: 0.0029 - mean_squared_error: 1.6258e-05 - val_loss: 1.6795e-05 - val_mean_absolute_error: 0.0027 - val_mean_squared_error: 1.6795e-05\n",
      "Epoch 15/50\n",
      "1632/1632 [==============================] - 0s 104us/step - loss: 1.3578e-05 - mean_absolute_error: 0.0026 - mean_squared_error: 1.3578e-05 - val_loss: 1.5720e-05 - val_mean_absolute_error: 0.0027 - val_mean_squared_error: 1.5720e-05\n",
      "Epoch 16/50\n",
      "1632/1632 [==============================] - 0s 96us/step - loss: 1.1732e-05 - mean_absolute_error: 0.0024 - mean_squared_error: 1.1732e-05 - val_loss: 1.6232e-05 - val_mean_absolute_error: 0.0027 - val_mean_squared_error: 1.6232e-05\n",
      "Epoch 17/50\n",
      "1632/1632 [==============================] - 0s 97us/step - loss: 1.1906e-05 - mean_absolute_error: 0.0025 - mean_squared_error: 1.1906e-05 - val_loss: 1.2064e-05 - val_mean_absolute_error: 0.0022 - val_mean_squared_error: 1.2064e-05\n",
      "Epoch 18/50\n",
      "1632/1632 [==============================] - 0s 107us/step - loss: 1.2286e-05 - mean_absolute_error: 0.0025 - mean_squared_error: 1.2286e-05 - val_loss: 1.0888e-05 - val_mean_absolute_error: 0.0021 - val_mean_squared_error: 1.0888e-05\n",
      "Epoch 19/50\n",
      "1632/1632 [==============================] - 0s 107us/step - loss: 1.2216e-05 - mean_absolute_error: 0.0026 - mean_squared_error: 1.2216e-05 - val_loss: 1.7620e-05 - val_mean_absolute_error: 0.0031 - val_mean_squared_error: 1.7620e-05\n",
      "Epoch 20/50\n",
      "1632/1632 [==============================] - 0s 103us/step - loss: 1.3155e-05 - mean_absolute_error: 0.0027 - mean_squared_error: 1.3155e-05 - val_loss: 1.3572e-05 - val_mean_absolute_error: 0.0023 - val_mean_squared_error: 1.3572e-05\n",
      "Epoch 21/50\n",
      "1632/1632 [==============================] - 0s 98us/step - loss: 8.6581e-06 - mean_absolute_error: 0.0021 - mean_squared_error: 8.6581e-06 - val_loss: 9.4844e-06 - val_mean_absolute_error: 0.0019 - val_mean_squared_error: 9.4844e-06\n",
      "Epoch 22/50\n",
      "1632/1632 [==============================] - 0s 103us/step - loss: 1.0876e-05 - mean_absolute_error: 0.0025 - mean_squared_error: 1.0876e-05 - val_loss: 9.7591e-06 - val_mean_absolute_error: 0.0020 - val_mean_squared_error: 9.7591e-06\n",
      "Epoch 23/50\n",
      "1632/1632 [==============================] - 0s 106us/step - loss: 7.5810e-06 - mean_absolute_error: 0.0020 - mean_squared_error: 7.5810e-06 - val_loss: 8.1567e-06 - val_mean_absolute_error: 0.0018 - val_mean_squared_error: 8.1567e-06\n",
      "Epoch 24/50\n",
      "1632/1632 [==============================] - 0s 94us/step - loss: 7.8885e-06 - mean_absolute_error: 0.0021 - mean_squared_error: 7.8885e-06 - val_loss: 8.3918e-06 - val_mean_absolute_error: 0.0019 - val_mean_squared_error: 8.3918e-06\n",
      "Epoch 25/50\n",
      "1632/1632 [==============================] - 0s 93us/step - loss: 7.5549e-06 - mean_absolute_error: 0.0020 - mean_squared_error: 7.5549e-06 - val_loss: 8.8338e-06 - val_mean_absolute_error: 0.0020 - val_mean_squared_error: 8.8338e-06\n",
      "Epoch 26/50\n",
      "1632/1632 [==============================] - 0s 100us/step - loss: 8.3421e-06 - mean_absolute_error: 0.0022 - mean_squared_error: 8.3421e-06 - val_loss: 1.5199e-05 - val_mean_absolute_error: 0.0032 - val_mean_squared_error: 1.5199e-05\n",
      "Epoch 27/50\n",
      "1632/1632 [==============================] - 0s 94us/step - loss: 7.3326e-06 - mean_absolute_error: 0.0020 - mean_squared_error: 7.3326e-06 - val_loss: 8.9492e-06 - val_mean_absolute_error: 0.0022 - val_mean_squared_error: 8.9492e-06\n",
      "Epoch 28/50\n",
      "1632/1632 [==============================] - 0s 106us/step - loss: 6.7093e-06 - mean_absolute_error: 0.0020 - mean_squared_error: 6.7093e-06 - val_loss: 7.5545e-06 - val_mean_absolute_error: 0.0017 - val_mean_squared_error: 7.5545e-06\n",
      "Epoch 29/50\n",
      "1632/1632 [==============================] - 0s 93us/step - loss: 6.6080e-06 - mean_absolute_error: 0.0019 - mean_squared_error: 6.6080e-06 - val_loss: 6.4032e-06 - val_mean_absolute_error: 0.0016 - val_mean_squared_error: 6.4032e-06\n",
      "Epoch 30/50\n",
      "1632/1632 [==============================] - 0s 107us/step - loss: 5.5783e-06 - mean_absolute_error: 0.0018 - mean_squared_error: 5.5783e-06 - val_loss: 1.0550e-05 - val_mean_absolute_error: 0.0025 - val_mean_squared_error: 1.0550e-05\n",
      "Epoch 31/50\n",
      "1632/1632 [==============================] - 0s 114us/step - loss: 5.9916e-06 - mean_absolute_error: 0.0018 - mean_squared_error: 5.9916e-06 - val_loss: 9.0967e-06 - val_mean_absolute_error: 0.0022 - val_mean_squared_error: 9.0967e-06\n",
      "Epoch 32/50\n",
      "1632/1632 [==============================] - 0s 102us/step - loss: 5.6167e-06 - mean_absolute_error: 0.0018 - mean_squared_error: 5.6167e-06 - val_loss: 5.3812e-06 - val_mean_absolute_error: 0.0015 - val_mean_squared_error: 5.3812e-06\n",
      "Epoch 33/50\n",
      "1632/1632 [==============================] - 0s 88us/step - loss: 5.9266e-06 - mean_absolute_error: 0.0018 - mean_squared_error: 5.9266e-06 - val_loss: 7.0620e-06 - val_mean_absolute_error: 0.0018 - val_mean_squared_error: 7.0620e-06\n",
      "Epoch 34/50\n",
      "1632/1632 [==============================] - 0s 95us/step - loss: 5.2347e-06 - mean_absolute_error: 0.0017 - mean_squared_error: 5.2347e-06 - val_loss: 1.0657e-05 - val_mean_absolute_error: 0.0027 - val_mean_squared_error: 1.0657e-05\n",
      "Epoch 35/50\n",
      "1632/1632 [==============================] - 0s 91us/step - loss: 4.9402e-06 - mean_absolute_error: 0.0017 - mean_squared_error: 4.9402e-06 - val_loss: 9.5090e-06 - val_mean_absolute_error: 0.0022 - val_mean_squared_error: 9.5090e-06\n",
      "Epoch 36/50\n",
      "1632/1632 [==============================] - 0s 98us/step - loss: 4.6282e-06 - mean_absolute_error: 0.0016 - mean_squared_error: 4.6282e-06 - val_loss: 5.8189e-06 - val_mean_absolute_error: 0.0017 - val_mean_squared_error: 5.8189e-06\n",
      "Epoch 37/50\n",
      "1632/1632 [==============================] - 0s 105us/step - loss: 5.6568e-06 - mean_absolute_error: 0.0018 - mean_squared_error: 5.6568e-06 - val_loss: 5.4484e-06 - val_mean_absolute_error: 0.0015 - val_mean_squared_error: 5.4484e-06\n",
      "Epoch 38/50\n",
      "1632/1632 [==============================] - 0s 89us/step - loss: 5.7765e-06 - mean_absolute_error: 0.0018 - mean_squared_error: 5.7765e-06 - val_loss: 7.7895e-06 - val_mean_absolute_error: 0.0017 - val_mean_squared_error: 7.7895e-06\n",
      "Epoch 39/50\n",
      "1632/1632 [==============================] - 0s 111us/step - loss: 4.7687e-06 - mean_absolute_error: 0.0016 - mean_squared_error: 4.7687e-06 - val_loss: 4.6101e-06 - val_mean_absolute_error: 0.0015 - val_mean_squared_error: 4.6101e-06\n",
      "Epoch 40/50\n",
      "1632/1632 [==============================] - 0s 98us/step - loss: 4.3572e-06 - mean_absolute_error: 0.0016 - mean_squared_error: 4.3572e-06 - val_loss: 5.6163e-06 - val_mean_absolute_error: 0.0017 - val_mean_squared_error: 5.6163e-06\n",
      "Epoch 41/50\n",
      "1632/1632 [==============================] - 0s 95us/step - loss: 4.2037e-06 - mean_absolute_error: 0.0016 - mean_squared_error: 4.2037e-06 - val_loss: 4.4123e-06 - val_mean_absolute_error: 0.0013 - val_mean_squared_error: 4.4123e-06\n",
      "Epoch 42/50\n",
      "1632/1632 [==============================] - 0s 152us/step - loss: 3.9662e-06 - mean_absolute_error: 0.0015 - mean_squared_error: 3.9662e-06 - val_loss: 6.2000e-06 - val_mean_absolute_error: 0.0019 - val_mean_squared_error: 6.2000e-06\n",
      "Epoch 43/50\n",
      "1632/1632 [==============================] - 0s 112us/step - loss: 3.7800e-06 - mean_absolute_error: 0.0015 - mean_squared_error: 3.7800e-06 - val_loss: 5.5333e-06 - val_mean_absolute_error: 0.0016 - val_mean_squared_error: 5.5333e-06\n",
      "Epoch 44/50\n",
      "1632/1632 [==============================] - 0s 101us/step - loss: 4.5258e-06 - mean_absolute_error: 0.0017 - mean_squared_error: 4.5258e-06 - val_loss: 5.0271e-06 - val_mean_absolute_error: 0.0016 - val_mean_squared_error: 5.0271e-06\n",
      "Epoch 45/50\n",
      "1632/1632 [==============================] - 0s 95us/step - loss: 4.9149e-06 - mean_absolute_error: 0.0017 - mean_squared_error: 4.9149e-06 - val_loss: 6.4301e-06 - val_mean_absolute_error: 0.0017 - val_mean_squared_error: 6.4301e-06\n",
      "Epoch 46/50\n",
      "1632/1632 [==============================] - 0s 125us/step - loss: 7.1365e-06 - mean_absolute_error: 0.0021 - mean_squared_error: 7.1365e-06 - val_loss: 5.6829e-06 - val_mean_absolute_error: 0.0016 - val_mean_squared_error: 5.6829e-06\n",
      "Epoch 47/50\n",
      "1632/1632 [==============================] - 0s 133us/step - loss: 4.0389e-06 - mean_absolute_error: 0.0016 - mean_squared_error: 4.0389e-06 - val_loss: 1.1183e-05 - val_mean_absolute_error: 0.0026 - val_mean_squared_error: 1.1183e-05\n",
      "Epoch 48/50\n",
      "1632/1632 [==============================] - 0s 101us/step - loss: 3.8007e-06 - mean_absolute_error: 0.0015 - mean_squared_error: 3.8007e-06 - val_loss: 6.9378e-06 - val_mean_absolute_error: 0.0020 - val_mean_squared_error: 6.9378e-06\n",
      "Epoch 49/50\n",
      "1632/1632 [==============================] - 0s 95us/step - loss: 4.9746e-06 - mean_absolute_error: 0.0017 - mean_squared_error: 4.9746e-06 - val_loss: 5.4261e-06 - val_mean_absolute_error: 0.0017 - val_mean_squared_error: 5.4261e-06\n",
      "Epoch 50/50\n",
      "1632/1632 [==============================] - 0s 96us/step - loss: 3.4678e-06 - mean_absolute_error: 0.0014 - mean_squared_error: 3.4678e-06 - val_loss: 1.2748e-05 - val_mean_absolute_error: 0.0032 - val_mean_squared_error: 1.2748e-05\n"
     ]
    }
   ],
   "source": [
    "# Обучение нейронной сети.\n",
    "# На вход передаем обучающие и тестовые выборки, количество эпох и размер батча.\n",
    "# На выходе получаем объект с историей обучения, который далее будем анализировать.\n",
    "history = model.fit(X_train, Y_train, validation_data = (X_test,Y_test), epochs=epochs_number, batch_size=batch_size)"
   ]
  },
  {
   "cell_type": "code",
   "execution_count": 82,
   "metadata": {},
   "outputs": [
    {
     "data": {
      "image/png": "[encoded data removed]",
      "text/plain": [
       "<Figure size 432x288 with 1 Axes>"
      ]
     },
     "metadata": {
      "needs_background": "light"
     },
     "output_type": "display_data"
    }
   ],
   "source": [
    "# Выводим динамику среднего абсолютного отклонения от номера эпохи обучения.\n",
    "plt.plot(history.history['mean_absolute_error'])\n",
    "plt.plot(history.history['val_mean_absolute_error']) \n",
    "plt.title('Model MAE') \n",
    "plt.ylabel('MAE') \n",
    "plt.xlabel('Epoch') \n",
    "plt.legend(['Train', 'Test'], loc='upper right') \n",
    "plt.show()"
   ]
  },
  {
   "cell_type": "code",
   "execution_count": 83,
   "metadata": {},
   "outputs": [
    {
     "data": {
      "image/png": "[encoded data removed]",
      "text/plain": [
       "<Figure size 432x288 with 1 Axes>"
      ]
     },
     "metadata": {
      "needs_background": "light"
     },
     "output_type": "display_data"
    }
   ],
   "source": [
    "# Выводим динамику среднеквадратического отклонения, т.е. значения функции потерь, от номера эпохи обучения.\n",
    "# Видно, что в процессе обучения сеть с каждой эпохой вычисляет всё более точные прогнозы значений Y.\n",
    "plt.plot(history.history['mean_squared_error'])\n",
    "plt.plot(history.history['val_mean_squared_error']) \n",
    "plt.title('Model MSE') \n",
    "plt.ylabel('MSE') \n",
    "plt.xlabel('Epoch') \n",
    "plt.legend(['Train', 'Test'], loc='upper right') \n",
    "plt.show()"
   ]
  },
  {
   "cell_type": "code",
   "execution_count": 84,
   "metadata": {},
   "outputs": [],
   "source": [
    "# Предсказание уже обученной нейронной сети на обучающей выборке:\n",
    "Y_pred_train = model.predict(X_train).flatten()"
   ]
  },
  {
   "cell_type": "code",
   "execution_count": 85,
   "metadata": {},
   "outputs": [
    {
     "data": {
      "image/png": "[encoded data removed]",
      "text/plain": [
       "<Figure size 432x288 with 1 Axes>"
      ]
     },
     "metadata": {
      "needs_background": "light"
     },
     "output_type": "display_data"
    }
   ],
   "source": [
    "# Сравним эталонные значения Y_train и результат работы обученной нейронной сети Y_pred_train для обучающей выборки.\n",
    "# В идеальной ситуации они должны совпадать, т.е. точки (Y_train[i], Y_pred_train[i]) должны лежать на прямой Y_train = Y_pred_train.\n",
    "plt.plot(Y_train, Y_pred_train, 'bo')\n",
    "plt.plot([0,1], [0,1], 'r-')\n",
    "plt.title('Test vs Pred_test') \n",
    "plt.ylabel('Pred_test') \n",
    "plt.xlabel('Test') \n",
    "plt.show()"
   ]
  },
  {
   "cell_type": "code",
   "execution_count": 86,
   "metadata": {},
   "outputs": [
    {
     "data": {
      "image/png": "[encoded data removed]",
      "text/plain": [
       "<Figure size 432x288 with 1 Axes>"
      ]
     },
     "metadata": {
      "needs_background": "light"
     },
     "output_type": "display_data"
    }
   ],
   "source": [
    "# Выведем сами значения Y_train и Y_pred_train.\n",
    "plt.plot(Y_train)\n",
    "plt.plot(Y_pred_train)\n",
    "plt.show()"
   ]
  },
  {
   "cell_type": "code",
   "execution_count": 87,
   "metadata": {},
   "outputs": [],
   "source": [
    "# Таким образом, обучение по обучающей выборке проведено.\n",
    "# Теперь проверим работу нейроной сети на тестовой выборке.\n",
    "\n",
    "# Предсказание обученной нейронной сети на тестовой выборке:\n",
    "Y_pred_test = model.predict(X_test).flatten()"
   ]
  },
  {
   "cell_type": "code",
   "execution_count": 88,
   "metadata": {
    "scrolled": true
   },
   "outputs": [
    {
     "data": {
      "image/png": "[encoded data removed]",
      "text/plain": [
       "<Figure size 432x288 with 1 Axes>"
      ]
     },
     "metadata": {
      "needs_background": "light"
     },
     "output_type": "display_data"
    }
   ],
   "source": [
    "# Сравним эталонные значения Y_test и результат работы обученной нейронной сети Y_pred_test для тестовой выборки.\n",
    "plt.plot(Y_test, Y_pred_test, 'bo')\n",
    "plt.plot([0,1], [0,1], 'r-')\n",
    "plt.title('Test vs Pred_test') \n",
    "plt.ylabel('Pred_test') \n",
    "plt.xlabel('Test') \n",
    "plt.show()"
   ]
  },
  {
   "cell_type": "code",
   "execution_count": 89,
   "metadata": {
    "scrolled": false
   },
   "outputs": [
    {
     "data": {
      "image/png": "[encoded data removed]",
      "text/plain": [
       "<Figure size 432x288 with 1 Axes>"
      ]
     },
     "metadata": {
      "needs_background": "light"
     },
     "output_type": "display_data"
    }
   ],
   "source": [
    "# Выведем сами значения Y_test и Y_pred_test.\n",
    "plt.plot(Y_test)\n",
    "plt.plot(Y_pred_test)\n",
    "plt.show()"
   ]
  },
  {
   "cell_type": "code",
   "execution_count": 90,
   "metadata": {},
   "outputs": [
    {
     "name": "stdout",
     "output_type": "stream",
     "text": [
      "0.003635396386293112\n",
      "0.003570406506439271\n"
     ]
    }
   ],
   "source": [
    "# Итого, качество работы нейронной сети на тестовых данных ниже, чем на обучающих - это ожидаемо.\n",
    "# Тем не менее, нейронная сеть способна найти зависимости и предсказвать значение Y по X с приемлемым уровенм точности.\n",
    "\n",
    "# Сравним среднеквадратичные ошибки (значения функции потерь) для обучающей и тестовой выборок.\n",
    "print(numpy.sqrt(mean_squared_error(Y_train, Y_pred_train)))\n",
    "print(numpy.sqrt(mean_squared_error(Y_test, Y_pred_test)))"
   ]
  },
  {
   "cell_type": "code",
   "execution_count": 91,
   "metadata": {},
   "outputs": [
    {
     "name": "stdout",
     "output_type": "stream",
     "text": [
      "Train k = 0.9632100462913513, p = 6.229909490973421e-20\n",
      "Test k = 0.7955875396728516, p = 2.6880527484359707e-22\n"
     ]
    }
   ],
   "source": [
    "# Проверим на нормальное распределение разности пар (Y_train, Y_pred_train), (Y_test, Y_pred_test)\n",
    "# Для этого используем библиотеку scipy и метод stats.shapiro.\n",
    "k_train, p_train = stats.shapiro(Y_train - Y_pred_train)\n",
    "print('Train k = {0}, p = {1}'.format(k_train, p_train))\n",
    "\n",
    "k_test, p_test = stats.shapiro(Y_test - Y_pred_test)\n",
    "print('Test k = {0}, p = {1}'.format(k_test, p_test))"
   ]
  },
  {
   "cell_type": "code",
   "execution_count": 92,
   "metadata": {},
   "outputs": [
    {
     "name": "stdout",
     "output_type": "stream",
     "text": [
      "k_s = 0.9198889136314392, p_s = 1.312419576838555e-31\n",
      "k_n = 590.5888323551865, p_n = 5.691995095837914e-129\n"
     ]
    }
   ],
   "source": [
    "# Для полной выборки (Y, Y_pred) применим два статистических теста: shapiro и normaltest.\n",
    "Y_pred = model.predict(X).flatten()\n",
    "\n",
    "k_s, p_s = stats.shapiro(Y - Y_pred)\n",
    "print('k_s = {0}, p_s = {1}'.format(k_s, p_s))\n",
    "\n",
    "k_n, p_n = stats.normaltest(Y - Y_pred)\n",
    "print('k_n = {0}, p_n = {1}'.format(k_n, p_n))"
   ]
  },
  {
   "cell_type": "code",
   "execution_count": 93,
   "metadata": {
    "scrolled": true
   },
   "outputs": [
    {
     "data": {
      "image/png": "[encoded data removed]",
      "text/plain": [
       "<Figure size 432x288 with 1 Axes>"
      ]
     },
     "metadata": {
      "needs_background": "light"
     },
     "output_type": "display_data"
    }
   ],
   "source": [
    "# И тоже самое визуально, с помощью грфиков квантиль-квантиль.\n",
    "# Обучающая выборка\n",
    "qqplot(Y_train - Y_pred_train)\n",
    "plt.show()"
   ]
  },
  {
   "cell_type": "code",
   "execution_count": 94,
   "metadata": {
    "scrolled": true
   },
   "outputs": [
    {
     "data": {
      "image/png": "[encoded data removed]",
      "text/plain": [
       "<Figure size 432x288 with 1 Axes>"
      ]
     },
     "metadata": {
      "needs_background": "light"
     },
     "output_type": "display_data"
    }
   ],
   "source": [
    "# Тестовая выборка\n",
    "qqplot(Y_test - Y_pred_test)\n",
    "plt.show()"
   ]
  },
  {
   "cell_type": "code",
   "execution_count": 95,
   "metadata": {
    "scrolled": true
   },
   "outputs": [
    {
     "data": {
      "image/png": "[encoded data removed]",
      "text/plain": [
       "<Figure size 432x288 with 1 Axes>"
      ]
     },
     "metadata": {
      "needs_background": "light"
     },
     "output_type": "display_data"
    }
   ],
   "source": [
    "# Полная выборка\n",
    "qqplot(Y - Y_pred)\n",
    "plt.show()"
   ]
  },
  {
   "cell_type": "code",
   "execution_count": 96,
   "metadata": {},
   "outputs": [
    {
     "data": {
      "image/png": "[encoded data removed]",
      "text/plain": [
       "<Figure size 432x288 with 1 Axes>"
      ]
     },
     "metadata": {
      "needs_background": "light"
     },
     "output_type": "display_data"
    }
   ],
   "source": [
    "# Можо также визульно убедиться, что распределения \"почти нормальное\".\n",
    "plt.hist(Y - Y_pred, bins=50)\n",
    "plt.show()"
   ]
  },
  {
   "cell_type": "code",
   "execution_count": 76,
   "metadata": {},
   "outputs": [],
   "source": [
    "# Сохраним обученную нейронную сеть, название файла можно выбрать любое, расширение - h5.\n",
    "model.save('SimpleNeuralNetwork.h5')"
   ]
  },
  {
   "cell_type": "code",
   "execution_count": null,
   "metadata": {},
   "outputs": [],
   "source": []
  }
 ],
 "metadata": {
  "kernelspec": {
   "display_name": "Python 3",
   "language": "python",
   "name": "python3"
  },
  "language_info": {
   "codemirror_mode": {
    "name": "ipython",
    "version": 3
   },
   "file_extension": ".py",
   "mimetype": "text/x-python",
   "name": "python",
   "nbconvert_exporter": "python",
   "pygments_lexer": "ipython3",
   "version": "3.7.6"
  }
 },
 "nbformat": 4,
 "nbformat_minor": 2
}
